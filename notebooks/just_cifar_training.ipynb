{
  "cells": [
    {
      "cell_type": "markdown",
      "metadata": {},
      "source": [
        "# Importing Libraries"
      ]
    },
    {
      "cell_type": "code",
      "execution_count": 1,
      "metadata": {
        "id": "wHZ5XBbQKPSJ"
      },
      "outputs": [
        {
          "name": "stderr",
          "output_type": "stream",
          "text": [
            "/home/shivam13juna/Documents/virtual_envs/mlo/lib/python3.10/site-packages/tqdm/auto.py:22: TqdmWarning: IProgress not found. Please update jupyter and ipywidgets. See https://ipywidgets.readthedocs.io/en/stable/user_install.html\n",
            "  from .autonotebook import tqdm as notebook_tqdm\n"
          ]
        }
      ],
      "source": [
        "import sys\n",
        "import pyrootutils\n",
        "\n",
        "root = pyrootutils.setup_root(sys.path[0], pythonpath=True, cwd=True)\n",
        "\n",
        "import timm\n",
        "import torch\n",
        "import shutil\n",
        "import numpy as np\n",
        "import torchvision\n",
        "import seaborn as sns\n",
        "import torch.nn as nn\n",
        "import albumentations as A\n",
        "import torch.optim as optim\n",
        "import pytorch_lightning as pl\n",
        "import matplotlib.pyplot as plt\n",
        "import torch.nn.functional as F\n",
        "import torchvision.transforms as transforms\n",
        "\n",
        "\n",
        "from PIL import Image\n",
        "from omegaconf import OmegaConf\n",
        "from torchvision import datasets\n",
        "from hydra import compose, initialize\n",
        "from torch import nn, optim, utils, Tensor\n",
        "from albumentations.pytorch import ToTensorV2\n",
        "from torch.utils.data import random_split, DataLoader, TensorDataset\n",
        "\n",
        "\n",
        "shutil.copy(\"configs/config.yaml\", \"notebooks/config.yaml\")\n",
        "with initialize(version_base=None, config_path=\"\"):\n",
        "    config = compose(config_name=\"config.yaml\")\n"
      ]
    },
    {
      "cell_type": "code",
      "execution_count": 2,
      "metadata": {},
      "outputs": [],
      "source": [
        "labels = {0: 'airplane', 1: 'automobile', 2: 'bird', 3: 'cat', 4: 'deer', 5: 'dog', 6: 'frog', 7: 'horse', 8: 'ship', 9: 'truck'} \n"
      ]
    },
    {
      "cell_type": "code",
      "execution_count": 3,
      "metadata": {},
      "outputs": [
        {
          "name": "stdout",
          "output_type": "stream",
          "text": [
            "cuda\n"
          ]
        }
      ],
      "source": [
        "# set random seed and device\n",
        "seed = 0\n",
        "torch.manual_seed(seed)\n",
        "torch.cuda.manual_seed(seed)\n",
        "\n",
        "device = torch.device('cuda' if torch.cuda.is_available() else 'cpu')\n",
        "print(device)"
      ]
    },
    {
      "cell_type": "markdown",
      "metadata": {},
      "source": [
        "# Steps:\n",
        "1. Make Data Loader\n",
        "2. Make CIFAR 10 pytorch lightning Model (with both timm and custom)\n",
        "3. Train and predict on hard-disk saved images\n",
        "\n"
      ]
    },
    {
      "cell_type": "markdown",
      "metadata": {},
      "source": [
        "## Data Loader"
      ]
    },
    {
      "cell_type": "code",
      "execution_count": 4,
      "metadata": {},
      "outputs": [
        {
          "name": "stderr",
          "output_type": "stream",
          "text": [
            "GPU available: True (cuda), used: True\n",
            "TPU available: False, using: 0 TPU cores\n",
            "IPU available: False, using: 0 IPUs\n",
            "HPU available: False, using: 0 HPUs\n"
          ]
        },
        {
          "name": "stdout",
          "output_type": "stream",
          "text": [
            "Files already downloaded and verified\n",
            "Files already downloaded and verified\n",
            "Files already downloaded and verified\n",
            "Files already downloaded and verified\n"
          ]
        },
        {
          "name": "stderr",
          "output_type": "stream",
          "text": [
            "LOCAL_RANK: 0 - CUDA_VISIBLE_DEVICES: [0]\n",
            "\n",
            "  | Name       | Type       | Params\n",
            "------------------------------------------\n",
            "0 | layer1     | Linear     | 1.6 M \n",
            "1 | rel        | ReLU       | 0     \n",
            "2 | layer2     | Linear     | 131 K \n",
            "3 | layer3     | Linear     | 32.9 K\n",
            "4 | layer4     | Linear     | 8.3 K \n",
            "5 | layer5     | Linear     | 650   \n",
            "6 | logsoftmax | LogSoftmax | 0     \n",
            "------------------------------------------\n",
            "1.7 M     Trainable params\n",
            "0         Non-trainable params\n",
            "1.7 M     Total params\n",
            "6.986     Total estimated model params size (MB)\n"
          ]
        },
        {
          "name": "stdout",
          "output_type": "stream",
          "text": [
            "Sanity Checking: 0it [00:00, ?it/s]"
          ]
        },
        {
          "name": "stderr",
          "output_type": "stream",
          "text": [
            "/home/shivam13juna/Documents/virtual_envs/mlo/lib/python3.10/site-packages/pytorch_lightning/trainer/connectors/data_connector.py:219: PossibleUserWarning: The dataloader, val_dataloader 0, does not have many workers which may be a bottleneck. Consider increasing the value of the `num_workers` argument` (try 16 which is the number of cpus on this machine) in the `DataLoader` init to improve performance.\n",
            "  rank_zero_warn(\n"
          ]
        },
        {
          "name": "stdout",
          "output_type": "stream",
          "text": [
            "                                                                           "
          ]
        },
        {
          "name": "stderr",
          "output_type": "stream",
          "text": [
            "/home/shivam13juna/Documents/virtual_envs/mlo/lib/python3.10/site-packages/pytorch_lightning/trainer/connectors/data_connector.py:219: PossibleUserWarning: The dataloader, train_dataloader, does not have many workers which may be a bottleneck. Consider increasing the value of the `num_workers` argument` (try 16 which is the number of cpus on this machine) in the `DataLoader` init to improve performance.\n",
            "  rank_zero_warn(\n",
            "/home/shivam13juna/Documents/virtual_envs/mlo/lib/python3.10/site-packages/pytorch_lightning/trainer/trainer.py:1894: PossibleUserWarning: The number of training batches (5) is smaller than the logging interval Trainer(log_every_n_steps=50). Set a lower value for log_every_n_steps if you want to see logs for the training epoch.\n",
            "  rank_zero_warn(\n"
          ]
        },
        {
          "name": "stdout",
          "output_type": "stream",
          "text": [
            "Epoch 4: 100%|██████████| 6/6 [00:09<00:00,  1.65s/it, loss=1.97, v_num=63]"
          ]
        },
        {
          "name": "stderr",
          "output_type": "stream",
          "text": [
            "`Trainer.fit` stopped: `max_epochs=5` reached.\n"
          ]
        },
        {
          "name": "stdout",
          "output_type": "stream",
          "text": [
            "Epoch 4: 100%|██████████| 6/6 [00:09<00:00,  1.65s/it, loss=1.97, v_num=63]\n"
          ]
        }
      ],
      "source": [
        "\n",
        "\n",
        "cifar_mean = [0.49139968, 0.48215841, 0.44653091]\n",
        "cifar_std =  [0.24703223, 0.24348513, 0.26158784]\n",
        "\n",
        "\n",
        "         \n",
        "\n",
        "class cifar_dataset(torchvision.datasets.CIFAR10):\n",
        "    def __init__(self, root=\"data/\", train=True, download=True, transform=None):\n",
        "        super().__init__(root=root, train=train, download=download, transform=transform)\n",
        "\n",
        "        self.transofrm = transform\n",
        "\n",
        "    def __getitem__(self, index):\n",
        "        image, label = self.data[index], self.targets[index]\n",
        "\n",
        "        if self.transform is not None:\n",
        "            transformed = self.transform(image=image)\n",
        "            image = transformed[\"image\"]\n",
        "\n",
        "        return image, label\n",
        "        \n",
        "\n",
        "\n",
        "class CIFARDataModule(pl.LightningDataModule):\n",
        "    def __init__(self, data_dir: str = 'data/', batch_size:int = 10000):\n",
        "        super().__init__()\n",
        "        self.data_dir = data_dir\n",
        "        self.batch_size = batch_size\n",
        "        self.transform = transforms.Compose([transforms.Resize((32, 32)), transforms.ToTensor(), transforms.Normalize(cifar_mean, cifar_std)])\n",
        "        self.device = torch.device('cuda' if torch.cuda.is_available() else 'cpu')\n",
        "        self.transform_train = A.Compose(\n",
        "            \n",
        "\n",
        "                            [A.RandomCrop(32, 32),\n",
        "                            A.HorizontalFlip(p=0.5),\n",
        "                            A.VerticalFlip(p=0.5),\n",
        "                            A.ShiftScaleRotate(p=0.5),\n",
        "                            A.HueSaturationValue(p=0.5),\n",
        "                            A.RandomBrightnessContrast(p=0.5),\n",
        "                            A.Normalize(\n",
        "                                cifar_mean, cifar_std),\n",
        "                            ToTensorV2(),\n",
        "                        ]\n",
        "                    )\n",
        "\n",
        "\n",
        "\n",
        "        self.transform_test = A.Compose(\n",
        "             \n",
        "            [  A.RandomCrop(32, 32), \n",
        "                A.Normalize(\n",
        "                    cifar_mean, cifar_std\n",
        "                ),\n",
        "                ToTensorV2(),\n",
        "            ]\n",
        "        )  \n",
        "\n",
        "    def prepare_data(self):\n",
        "        datasets.CIFAR10(self.data_dir, train=True, download=True)\n",
        "        datasets.CIFAR10(self.data_dir, train=False, download=True)\n",
        "    \n",
        "    def setup(self, stage):\n",
        "\n",
        "        self.train_full_set = cifar_dataset(self.data_dir, train=True, download=True, transform=self.transform_train)\n",
        "\n",
        "        self.cifar_train, self.cifar_val = random_split(self.train_full_set, [45000, 5000])\n",
        "\n",
        "        self.cifar_test = cifar_dataset(self.data_dir, train=False, download=True, transform=self.transform_test)\n",
        "\n",
        "    def train_dataloader(self):\n",
        "        return DataLoader(self.cifar_train, batch_size=self.batch_size)\n",
        "\n",
        "    def val_dataloader(self):\n",
        "        return DataLoader(self.cifar_val, batch_size=self.batch_size)\n",
        "\n",
        "    def test_dataloader(self):\n",
        "        return DataLoader(self.cifar_test, batch_size=self.batch_size)\n",
        "\n",
        "    def predict_dataloader(self):\n",
        "        return DataLoader(self.cifar_test, batch_size=self.batch_size)\n",
        " \n",
        "\n",
        "\n",
        "\n",
        "class CIFARTrainingModule(pl.LightningModule):\n",
        "\n",
        "    def __init__(self, units = 64):\n",
        "        super().__init__()\n",
        "\n",
        "        # self.layer = nn.Sequential(nn.Linear(32 * 32 * 3, 512), nn.ReLU(), nn.Linear(512, 256), nn.ReLU(), nn.Linear(256, 128), nn.ReLU(), nn.Linear(128, 64),  nn.Linear(64, 10), nn.LogSoftmax(dim=-1))\n",
        "\n",
        "        self.layer1 = nn.Linear(32 * 32 * 3, 512)\n",
        "        self.rel = nn.ReLU()\n",
        "        self.layer2 = nn.Linear(512, 256)\n",
        "        self.layer3 = nn.Linear(256, 128)\n",
        "        self.layer4 = nn.Linear(128, 64)\n",
        "        self.layer5 = nn.Linear(64, 10)\n",
        "        self.logsoftmax = nn.LogSoftmax(dim=-1)\n",
        "    \n",
        "\n",
        "\n",
        "    def training_step(self, batch, batch_idx):\n",
        "        x, y = batch\n",
        "        # print(\"Gotten batch and shape of x: \", x.shape)\n",
        "\n",
        "        x = x.view(x.size(0), -1)\n",
        "        o1 = self.layer1(x)\n",
        "        o2 = self.rel(o1)\n",
        "        o3 = self.layer2(o2)\n",
        "        o4 = self.rel(o3)\n",
        "        o5 = self.layer3(o4)\n",
        "        o6 = self.rel(o5)\n",
        "        o7 = self.layer4(o6)\n",
        "        o8 = self.rel(o7)\n",
        "        o9 = self.layer5(o8)\n",
        "        o10 = self.logsoftmax(o9)\n",
        "\n",
        "\n",
        "        loss = nn.functional.cross_entropy(o10, y)\n",
        "\n",
        "        self.log(\"training_loss\", loss)\n",
        "\n",
        "        return loss\n",
        "\n",
        "    def forward(self, nx):\n",
        "\n",
        "\n",
        "        mnx = nx.reshape(nx.size(0), -1)\n",
        "        # print(\"Shape of mnx: \", mnx.shape)\n",
        "        o1 = self.layer1(mnx)\n",
        "        o2 = self.rel(o1)\n",
        "        o3 = self.layer2(o2)\n",
        "        o4 = self.rel(o3)\n",
        "        o5 = self.layer3(o4)\n",
        "        o6 = self.rel(o5)\n",
        "        o7 = self.layer4(o6)\n",
        "        o8 = self.rel(o7)\n",
        "        o9 = self.layer5(o8)\n",
        "        o10 = self.logsoftmax(o9)\n",
        "        return o10\n",
        "\n",
        "    # def training_step(self, batch, batch_idx):\n",
        "    #     x, y = batch\n",
        "    #     # print(\"Gotten batch and shape of x: \", x.shape)\n",
        "\n",
        "    #     x = x.view(x.size(0), -1)\n",
        "    #     z = self.layer(x)\n",
        "\n",
        "    #     # z_hat = F.log_softmax(x, dim=-1)\n",
        "    #     # z_hat.requires_grad = True\n",
        "\n",
        "    #     loss = nn.functional.cross_entropy(z, y)\n",
        "\n",
        "    #     self.log(\"training_loss\", loss)\n",
        "\n",
        "    #     return loss\n",
        "\n",
        "    # def forward(self, nx):\n",
        "    #     # nx = self.transform(x).unsqueeze(0)\n",
        "    #     # mnx = nx.view(nx.size(0), -1)\n",
        "    #     # return self.layer(mnx)\n",
        "    #     # nx = self.transform(x)\n",
        "    #     # print(\"Shape of nx: \", nx.shape, nx.size())\n",
        "\n",
        "    #     mnx = nx.reshape(nx.size(0), -1)\n",
        "    #     # print(\"Shape of mnx: \", mnx.shape)\n",
        "    #     return self.layer(mnx)\n",
        "\n",
        "    def validation_step(self, batch, batch_idx):\n",
        "        x, y = batch\n",
        "        # print(\"Gotten batch and shape of x: \", x.shape)\n",
        "\n",
        "        x = x.view(x.size(0), -1)\n",
        "        o1 = self.layer1(x)\n",
        "        o2 = self.rel(o1)\n",
        "        o3 = self.layer2(o2)\n",
        "        o4 = self.rel(o3)\n",
        "        o5 = self.layer3(o4)\n",
        "        o6 = self.rel(o5)\n",
        "        o7 = self.layer4(o6)\n",
        "        o8 = self.rel(o7)\n",
        "        o9 = self.layer5(o8)\n",
        "        o10 = self.logsoftmax(o9)\n",
        "\n",
        "\n",
        "        loss = nn.functional.cross_entropy(o10, y)\n",
        "\n",
        "        self.log(\"validation_loss\", loss)\n",
        "\n",
        "        return loss\n",
        "\n",
        "\n",
        "    def configure_optimizers(self):\n",
        "        optimizer = optim.Adam(self.parameters(), lr=1e-3)\n",
        "        return optimizer\n",
        "\n",
        "cifar_module = CIFARTrainingModule(units=512)\n",
        "data_module = CIFARDataModule()\n",
        "\n",
        "trainer = pl.Trainer(max_epochs=config.epochs, accelerator='gpu', devices=1)\n",
        "\n",
        "trainer.fit(cifar_module, data_module)"
      ]
    },
    {
      "cell_type": "code",
      "execution_count": 5,
      "metadata": {},
      "outputs": [],
      "source": [
        "cifar_module = cifar_module.eval()"
      ]
    },
    {
      "cell_type": "code",
      "execution_count": 6,
      "metadata": {},
      "outputs": [
        {
          "name": "stdout",
          "output_type": "stream",
          "text": [
            "Files already downloaded and verified\n"
          ]
        }
      ],
      "source": [
        "transform = transforms.Compose([transforms.Resize(32), transforms.ToTensor(), transforms.Normalize(cifar_mean, cifar_std)])\n",
        "\n",
        "tmp = datasets.CIFAR10('data/', train=False, download=True, transform=transform)\n",
        "\n",
        "ano = iter(tmp)\n",
        "\n",
        "x, y = next(ano)\n",
        "# x = np.array(x)"
      ]
    },
    {
      "cell_type": "code",
      "execution_count": 7,
      "metadata": {},
      "outputs": [
        {
          "name": "stdout",
          "output_type": "stream",
          "text": [
            "Accuracy:  0.3625\n"
          ]
        }
      ],
      "source": [
        "ind = list(range(10000))\n",
        "# ind = [0, 0]\n",
        "\n",
        "acc = 0\n",
        "all = 0\n",
        "\n",
        "for i in ind:\n",
        "    inp = tmp[i][0]\n",
        "    tar = tmp[i][1]\n",
        "    out = np.argmax(cifar_module(inp.unsqueeze(0)).detach().numpy(), axis=1)\n",
        "\n",
        "    if out == tar:\n",
        "        acc += 1\n",
        "    all += 1\n",
        "\n",
        "\n",
        "print(\"Accuracy: \", acc/all)\n"
      ]
    },
    {
      "cell_type": "code",
      "execution_count": 8,
      "metadata": {},
      "outputs": [
        {
          "name": "stdout",
          "output_type": "stream",
          "text": [
            "Shape of x:  torch.Size([1, 3, 32, 32]) Shape of tmp[i][0]:  torch.Size([3, 32, 32])\n",
            "Shape of x:  (100, 3, 32, 32)\n"
          ]
        }
      ],
      "source": [
        "\n",
        "# concatenate data for 100 random images into a numpy array \n",
        "\n",
        "x = 0\n",
        "for i in range(100):\n",
        "    if i == 0:\n",
        "        x = tmp[np.random.randint(0, 10000)][0][np.newaxis, :]\n",
        "        print(\n",
        "            \"Shape of x: \", x.shape, \"Shape of tmp[i][0]: \", tmp[np.random.randint(0, 10000)][0].shape\n",
        "        )\n",
        "    else:\n",
        "        x = np.concatenate((x, tmp[np.random.randint(0, 10000)][0][np.newaxis, :]), axis=0)\n",
        "\n",
        "print(\"Shape of x: \", x.shape)"
      ]
    },
    {
      "cell_type": "code",
      "execution_count": 25,
      "metadata": {},
      "outputs": [
        {
          "name": "stdout",
          "output_type": "stream",
          "text": [
            "Shape of x:  torch.Size([1, 3, 32, 32]) Shape of tmp[i][0]:  torch.Size([3, 32, 32])\n",
            "Shape of x:  (100, 3, 32, 32)\n"
          ]
        }
      ],
      "source": [
        "\n",
        "# concatenate data for 100 random images into a numpy array \n",
        "\n",
        "xc = 0\n",
        "for i in range(100):\n",
        "    if i == 0:\n",
        "        xc = tmp[np.random.randint(0, 10000)][0][np.newaxis, :]\n",
        "        print(\n",
        "            \"Shape of x: \", xc.shape, \"Shape of tmp[i][0]: \", tmp[np.random.randint(0, 10000)][0].shape\n",
        "        )\n",
        "    else:\n",
        "        xc = np.concatenate((xc, tmp[np.random.randint(0, 10000)][0][np.newaxis, :]), axis=0)\n",
        "\n",
        "print(\"Shape of xc: \", xc.shape)"
      ]
    },
    {
      "cell_type": "code",
      "execution_count": null,
      "metadata": {},
      "outputs": [],
      "source": []
    },
    {
      "cell_type": "code",
      "execution_count": 22,
      "metadata": {},
      "outputs": [
        {
          "data": {
            "text/plain": [
              "'truck'"
            ]
          },
          "execution_count": 22,
          "metadata": {},
          "output_type": "execute_result"
        }
      ],
      "source": [
        "# img = Image.open('tmp/0003.jpg')\n",
        "img = Image.open('/home/shivam13juna/Documents/learn/tsai/emlo/s2/emlo-assn2/s7/10_pics/i7.jpg')\n",
        "# resize img to 32 x 32\n",
        "img = img.resize((32, 32))\n",
        "tmp.classes[np.argmax(cifar_module(transform(img).unsqueeze(0)).detach().numpy(), axis=1).tolist()[0]]"
      ]
    },
    {
      "cell_type": "markdown",
      "metadata": {},
      "source": [
        "## Calculating Drifts"
      ]
    },
    {
      "cell_type": "code",
      "execution_count": 23,
      "metadata": {},
      "outputs": [],
      "source": [
        "from functools import partial\n",
        "\n",
        "from alibi_detect.cd import MMDDrift\n",
        "from alibi_detect.cd.pytorch import preprocess_drift\n",
        "from alibi_detect.datasets import corruption_types_cifar10c, fetch_cifar10c\n",
        "from alibi_detect.models.tensorflow import scale_by_instance\n",
        "from alibi_detect.saving import load_detector, save_detector"
      ]
    },
    {
      "cell_type": "code",
      "execution_count": 24,
      "metadata": {},
      "outputs": [],
      "source": [
        "preprocess_fn = partial(preprocess_drift, model=cifar_module, device=torch.device('cpu'), batch_size=512)"
      ]
    },
    {
      "cell_type": "code",
      "execution_count": 12,
      "metadata": {},
      "outputs": [
        {
          "data": {
            "text/plain": [
              "torch.Size([3, 32, 32])"
            ]
          },
          "execution_count": 12,
          "metadata": {},
          "output_type": "execute_result"
        }
      ],
      "source": [
        "tmp[0][0].shape"
      ]
    },
    {
      "cell_type": "code",
      "execution_count": 13,
      "metadata": {},
      "outputs": [
        {
          "data": {
            "text/plain": [
              "torch.Size([3, 32, 32])"
            ]
          },
          "execution_count": 13,
          "metadata": {},
          "output_type": "execute_result"
        }
      ],
      "source": [
        "tmp[23][0].shape"
      ]
    },
    {
      "cell_type": "code",
      "execution_count": 27,
      "metadata": {},
      "outputs": [],
      "source": [
        "cd = MMDDrift(x, backend='pytorch', p_val=.05, preprocess_fn=preprocess_fn, n_permutations=100)"
      ]
    },
    {
      "cell_type": "code",
      "execution_count": 28,
      "metadata": {},
      "outputs": [
        {
          "name": "stderr",
          "output_type": "stream",
          "text": [
            "Clipping input data to the valid range for imshow with RGB data ([0..1] for floats or [0..255] for integers).\n"
          ]
        },
        {
          "data": {
            "image/png": "[encoded data removed]",
            "text/plain": [
              "<Figure size 640x480 with 1 Axes>"
            ]
          },
          "metadata": {},
          "output_type": "display_data"
        }
      ],
      "source": [
        "plt.imshow(\n",
        "    torch.tensor(tmp[23][0].numpy()).permute(1, 2, 0)\n",
        ")\n",
        "plt.show()\n",
        "\n",
        "\n",
        "classes = ('plane', 'car', 'bird', 'cat',\n",
        "           'deer', 'dog', 'frog', 'horse', 'ship', 'truck')"
      ]
    },
    {
      "cell_type": "code",
      "execution_count": 29,
      "metadata": {},
      "outputs": [
        {
          "data": {
            "text/plain": [
              "'truck'"
            ]
          },
          "execution_count": 29,
          "metadata": {},
          "output_type": "execute_result"
        }
      ],
      "source": [
        "labels[np.argmax(cifar_module(tmp[23][0].unsqueeze(0)).detach().numpy(), axis=1).tolist()[0]]"
      ]
    },
    {
      "cell_type": "code",
      "execution_count": 30,
      "metadata": {},
      "outputs": [
        {
          "data": {
            "image/png": "[encoded data removed]",
            "text/plain": [
              "<Figure size 640x480 with 1 Axes>"
            ]
          },
          "metadata": {},
          "output_type": "display_data"
        }
      ],
      "source": [
        "perturb = A.RandomBrightnessContrast(\n",
        "    brightness_limit=1.5,\n",
        "    contrast_limit=1.5,\n",
        "    p=1.0\n",
        ")\n",
        "\n",
        "perturbed_image = torch.tensor(\n",
        "    perturb(\n",
        "        image=tmp[23][0].numpy(),\n",
        "    )['image']\n",
        "    \n",
        ")\n",
        "\n",
        "plt.imshow(\n",
        "    perturbed_image.permute(1, 2, 0)\n",
        ")\n",
        "plt.show()\n",
        "    "
      ]
    },
    {
      "cell_type": "code",
      "execution_count": 31,
      "metadata": {},
      "outputs": [
        {
          "data": {
            "text/plain": [
              "'dog'"
            ]
          },
          "execution_count": 31,
          "metadata": {},
          "output_type": "execute_result"
        }
      ],
      "source": [
        "labels[np.argmax(cifar_module(perturbed_image.unsqueeze(0)).detach().numpy(), axis=1).tolist()[0]]"
      ]
    },
    {
      "cell_type": "markdown",
      "metadata": {},
      "source": [
        "### Look how prediction changed from truck to dog"
      ]
    },
    {
      "cell_type": "code",
      "execution_count": 32,
      "metadata": {},
      "outputs": [
        {
          "data": {
            "text/plain": [
              "{'data': {'is_drift': 0,\n",
              "  'distance': -0.006183803081512451,\n",
              "  'p_val': 0.9200000166893005,\n",
              "  'threshold': 0.05,\n",
              "  'distance_threshold': array(0.00921333, dtype=float32)},\n",
              " 'meta': {'name': 'MMDDriftTorch',\n",
              "  'online': False,\n",
              "  'data_type': None,\n",
              "  'version': '0.10.4',\n",
              "  'detector_type': 'drift',\n",
              "  'backend': 'pytorch'}}"
            ]
          },
          "execution_count": 32,
          "metadata": {},
          "output_type": "execute_result"
        }
      ],
      "source": [
        "cd.predict(xc)"
      ]
    },
    {
      "cell_type": "markdown",
      "metadata": {
        "id": "i77B-evdlrbU"
      },
      "source": [
        "## LSDD Drift (Least-Squares Density Difference)"
      ]
    },
    {
      "cell_type": "code",
      "execution_count": 40,
      "metadata": {
        "id": "VtadsNbWlfJ1"
      },
      "outputs": [],
      "source": [
        "from alibi_detect.cd import LSDDDrift"
      ]
    },
    {
      "cell_type": "code",
      "execution_count": 87,
      "metadata": {
        "id": "PMsoD4UNsVBF"
      },
      "outputs": [
        {
          "data": {
            "text/plain": [
              "{'data': {'is_drift': 0,\n",
              "  'distance': 0.0020556978415697813,\n",
              "  'p_val': 0.7400000095367432,\n",
              "  'threshold': 0.005,\n",
              "  'distance_threshold': array(0.0312476, dtype=float32)},\n",
              " 'meta': {'name': 'LSDDDriftTorch',\n",
              "  'online': False,\n",
              "  'data_type': None,\n",
              "  'version': '0.10.4',\n",
              "  'detector_type': 'drift',\n",
              "  'backend': 'pytorch'}}"
            ]
          },
          "execution_count": 87,
          "metadata": {},
          "output_type": "execute_result"
        }
      ],
      "source": [
        "cd = LSDDDrift(x, backend='pytorch', p_val=.005, preprocess_fn=preprocess_fn)\n",
        "cd.predict(xc)"
      ]
    },
    {
      "cell_type": "markdown",
      "metadata": {
        "id": "BwPRHMQhLNxP"
      },
      "source": [
        "## Kernel MMD (Torch Drift)"
      ]
    },
    {
      "cell_type": "code",
      "execution_count": 88,
      "metadata": {
        "id": "l23Qd-sjwoPy"
      },
      "outputs": [],
      "source": [
        "import torchdrift\n",
        "import sklearn"
      ]
    },
    {
      "cell_type": "markdown",
      "metadata": {
        "id": "xpSO-0SM3zAp"
      },
      "source": [
        "Sometimes you are not allowed to make changes in the model, so here we can use a resnet model trained on imagenet !"
      ]
    },
    {
      "cell_type": "code",
      "execution_count": 94,
      "metadata": {
        "colab": {
          "base_uri": "https://localhost:8080/",
          "height": 156,
          "referenced_widgets": [
            "cfe417040f2c41e1a8fa4ecc50a51064",
            "d6d7d30f88f94be3bb6d762f80fb55b0",
            "c83ad95841e749fbb02f47ff56dd9b1a",
            "887c298aa6c74eb183fe8dca7ad7f1b1",
            "aa5e8f212ad24072a9036614cb4024fc",
            "3f8c21a917504a85b9295d5567489080",
            "d5e1742d031e4ff3b02f9b43701032e1",
            "4d4c8cd2420d4f9982d5f9087fc737e4",
            "2108eb665758492f95e1d0cb1cd7aa41",
            "1f9d17cb13584d5e8e59cd67f90ffcda",
            "a8d47791f8aa4b86aca815e1e5ba7e0b"
          ]
        },
        "id": "FPels6ktLO8I",
        "outputId": "713c5dce-786c-4728-8b90-47c5beecbd3f"
      },
      "outputs": [],
      "source": [
        "feature_extractor = torchvision.models.resnet18(pretrained=True)\n",
        "feature_extractor.fc = torch.nn.Identity()\n",
        "\n",
        "feature_extractor = feature_extractor.to(device)"
      ]
    },
    {
      "cell_type": "code",
      "execution_count": 95,
      "metadata": {
        "id": "iGOqnoTQwb5Y"
      },
      "outputs": [],
      "source": [
        "drift_detector = torchdrift.detectors.KernelMMDDriftDetector()"
      ]
    },
    {
      "cell_type": "code",
      "execution_count": 96,
      "metadata": {
        "id": "_Evc2NfawvvZ"
      },
      "outputs": [],
      "source": [
        "cifar10_train_dl = DataLoader(tmp)"
      ]
    },
    {
      "cell_type": "code",
      "execution_count": 97,
      "metadata": {
        "colab": {
          "base_uri": "https://localhost:8080/"
        },
        "id": "5WsueLs_wmHT",
        "outputId": "42b48573-3107-45d7-e3f7-a3bc24ad5440"
      },
      "outputs": [
        {
          "name": "stderr",
          "output_type": "stream",
          "text": [
            "100%|██████████| 10000/10000 [00:34<00:00, 287.36it/s]\n"
          ]
        }
      ],
      "source": [
        "torchdrift.utils.fit(cifar10_train_dl, feature_extractor, drift_detector)"
      ]
    },
    {
      "cell_type": "code",
      "execution_count": 98,
      "metadata": {
        "id": "-eH9ev44w4hU"
      },
      "outputs": [],
      "source": [
        "drift_detection_model = torch.nn.Sequential(\n",
        "    feature_extractor,\n",
        "    drift_detector\n",
        ").to(device)"
      ]
    },
    {
      "cell_type": "code",
      "execution_count": 101,
      "metadata": {},
      "outputs": [],
      "source": [
        "perturbed_images = []\n",
        "\n",
        "for idx in range(100):\n",
        "    perturbed_image = torch.tensor(\n",
        "        perturb(\n",
        "            image=x[idx]\n",
        "        )['image']\n",
        "    )\n",
        "\n",
        "    perturbed_images.append(perturbed_image)\n",
        "\n",
        "perturbed_images = torch.stack(perturbed_images)"
      ]
    },
    {
      "cell_type": "code",
      "execution_count": 102,
      "metadata": {
        "colab": {
          "base_uri": "https://localhost:8080/"
        },
        "id": "qQ9j2FaDxBEF",
        "outputId": "f5759cae-d775-4db7-fb5b-0ffd852c2518"
      },
      "outputs": [
        {
          "data": {
            "text/plain": [
              "torch.Size([100, 3, 32, 32])"
            ]
          },
          "execution_count": 102,
          "metadata": {},
          "output_type": "execute_result"
        }
      ],
      "source": [
        "perturbed_images.shape"
      ]
    },
    {
      "cell_type": "markdown",
      "metadata": {
        "id": "qMDG2_1n4Xfp"
      },
      "source": [
        "Perturbed Data"
      ]
    },
    {
      "cell_type": "code",
      "execution_count": 105,
      "metadata": {
        "colab": {
          "base_uri": "https://localhost:8080/"
        },
        "id": "vCNWDKJdw6-1",
        "outputId": "e26eac25-1cd7-41b6-8210-58e6c6d492bd"
      },
      "outputs": [
        {
          "data": {
            "text/plain": [
              "(tensor(0.1333, device='cuda:0'), tensor(0., device='cuda:0'))"
            ]
          },
          "execution_count": 105,
          "metadata": {},
          "output_type": "execute_result"
        }
      ],
      "source": [
        "with torch.no_grad():\n",
        "    features = feature_extractor(perturbed_images.to(device))\n",
        "    score = drift_detector(features)\n",
        "    score = drift_detection_model(perturbed_images.to(device))\n",
        "    p_val = drift_detector.compute_p_value(features)\n",
        "score, p_val"
      ]
    },
    {
      "cell_type": "markdown",
      "metadata": {
        "id": "bmF03chP4ZsS"
      },
      "source": [
        "P-Value is 0 ! that means a drift !"
      ]
    },
    {
      "cell_type": "code",
      "execution_count": 106,
      "metadata": {
        "colab": {
          "base_uri": "https://localhost:8080/",
          "height": 281
        },
        "id": "r1TAML6OxE4F",
        "outputId": "fc1f007c-7149-439f-a5b5-d05450af9a9f"
      },
      "outputs": [
        {
          "data": {
            "image/png": "[encoded data removed]",
            "text/plain": [
              "<Figure size 640x480 with 1 Axes>"
            ]
          },
          "metadata": {},
          "output_type": "display_data"
        }
      ],
      "source": [
        "N_base = drift_detector.base_outputs.size(0)\n",
        "mapper = sklearn.manifold.Isomap(n_components=2)\n",
        "base_embedded = mapper.fit_transform(drift_detector.base_outputs.cpu())\n",
        "features_embedded = mapper.transform(features.cpu().detach().numpy())\n",
        "plt.scatter(base_embedded[:, 0], base_embedded[:, 1], s=2, c='r')\n",
        "plt.scatter(features_embedded[:, 0], features_embedded[:, 1], s=4)\n",
        "plt.title(f'score {score:.2f} p-value {p_val:.2f}')\n",
        "plt.show()"
      ]
    },
    {
      "cell_type": "markdown",
      "metadata": {
        "id": "v5eyAqtn4Vvy"
      },
      "source": [
        "Reference Data"
      ]
    },
    {
      "cell_type": "code",
      "execution_count": 110,
      "metadata": {
        "colab": {
          "base_uri": "https://localhost:8080/"
        },
        "id": "du4YI_WBx0sS",
        "outputId": "cf692f59-e01a-49e2-b24d-5365cd420680"
      },
      "outputs": [
        {
          "data": {
            "text/plain": [
              "(tensor(0.0097, device='cuda:0'), tensor(0.6640, device='cuda:0'))"
            ]
          },
          "execution_count": 110,
          "metadata": {},
          "output_type": "execute_result"
        }
      ],
      "source": [
        "with torch.no_grad():\n",
        "    features = feature_extractor(torch.Tensor(xc).to(device))\n",
        "    score = drift_detector(features)\n",
        "    p_val = drift_detector.compute_p_value(features)\n",
        "score, p_val"
      ]
    },
    {
      "cell_type": "markdown",
      "metadata": {},
      "source": [
        "###### p value is 0.66 so it's not a drift"
      ]
    },
    {
      "cell_type": "code",
      "execution_count": 111,
      "metadata": {
        "colab": {
          "base_uri": "https://localhost:8080/",
          "height": 281
        },
        "id": "HlkrPIjcy3Qt",
        "outputId": "a3476ed2-294b-4130-a0aa-67b3367e2319"
      },
      "outputs": [
        {
          "data": {
            "image/png": "[encoded data removed]",
            "text/plain": [
              "<Figure size 640x480 with 1 Axes>"
            ]
          },
          "metadata": {},
          "output_type": "display_data"
        }
      ],
      "source": [
        "N_base = drift_detector.base_outputs.size(0)\n",
        "mapper = sklearn.manifold.Isomap(n_components=2)\n",
        "base_embedded = mapper.fit_transform(drift_detector.base_outputs.cpu())\n",
        "features_embedded = mapper.transform(features.cpu().detach().numpy())\n",
        "plt.scatter(base_embedded[:, 0], base_embedded[:, 1], s=2, c='r')\n",
        "plt.scatter(features_embedded[:, 0], features_embedded[:, 1], s=4)\n",
        "plt.title(f'score {score:.2f} p-value {p_val:.2f}')\n",
        "plt.show()"
      ]
    },
    {
      "cell_type": "code",
      "execution_count": null,
      "metadata": {
        "id": "TppW6VwLy-kA"
      },
      "outputs": [],
      "source": []
    },
    {
      "cell_type": "code",
      "execution_count": null,
      "metadata": {},
      "outputs": [],
      "source": []
    }
  ],
  "metadata": {
    "accelerator": "GPU",
    "colab": {
      "provenance": []
    },
    "gpuClass": "standard",
    "kernelspec": {
      "display_name": "Python 3.10.6 ('mlo')",
      "language": "python",
      "name": "python3"
    },
    "language_info": {
      "codemirror_mode": {
        "name": "ipython",
        "version": 3
      },
      "file_extension": ".py",
      "mimetype": "text/x-python",
      "name": "python",
      "nbconvert_exporter": "python",
      "pygments_lexer": "ipython3",
      "version": "3.10.6"
    },
    "vscode": {
      "interpreter": {
        "hash": "166496c61138a32d9d6f298a779727d389a647554eedcb433b9a55285638df27"
      }
    },
    "widgets": {
      "application/vnd.jupyter.widget-state+json": {
        "001d6e7a24bf45a2ac16db28561dd7a2": {
          "model_module": "@jupyter-widgets/controls",
          "model_module_version": "1.5.0",
          "model_name": "HTMLModel",
          "state": {
            "_dom_classes": [],
            "_model_module": "@jupyter-widgets/controls",
            "_model_module_version": "1.5.0",
            "_model_name": "HTMLModel",
            "_view_count": null,
            "_view_module": "@jupyter-widgets/controls",
            "_view_module_version": "1.5.0",
            "_view_name": "HTMLView",
            "description": "",
            "description_tooltip": null,
            "layout": "IPY_MODEL_0d39300c25ba486fb0e3a729d08fb371",
            "placeholder": "​",
            "style": "IPY_MODEL_3bd1ba9375d746049d50c0f4a78f424f",
            "value": " 170498071/170498071 [00:06&lt;00:00, 31819235.94it/s]"
          }
        },
        "00fa96d253634096b9d1da338c1db588": {
          "model_module": "@jupyter-widgets/controls",
          "model_module_version": "1.5.0",
          "model_name": "DescriptionStyleModel",
          "state": {
            "_model_module": "@jupyter-widgets/controls",
            "_model_module_version": "1.5.0",
            "_model_name": "DescriptionStyleModel",
            "_view_count": null,
            "_view_module": "@jupyter-widgets/base",
            "_view_module_version": "1.2.0",
            "_view_name": "StyleView",
            "description_width": ""
          }
        },
        "0589600ee2fd449da028abb961527185": {
          "model_module": "@jupyter-widgets/controls",
          "model_module_version": "1.5.0",
          "model_name": "FloatProgressModel",
          "state": {
            "_dom_classes": [],
            "_model_module": "@jupyter-widgets/controls",
            "_model_module_version": "1.5.0",
            "_model_name": "FloatProgressModel",
            "_view_count": null,
            "_view_module": "@jupyter-widgets/controls",
            "_view_module_version": "1.5.0",
            "_view_name": "ProgressView",
            "bar_style": "success",
            "description": "",
            "description_tooltip": null,
            "layout": "IPY_MODEL_11585a767573408ead07e4c2e76db252",
            "max": 170498071,
            "min": 0,
            "orientation": "horizontal",
            "style": "IPY_MODEL_f75c4181d30f406095a99fc29ebb0dcf",
            "value": 170498071
          }
        },
        "0d39300c25ba486fb0e3a729d08fb371": {
          "model_module": "@jupyter-widgets/base",
          "model_module_version": "1.2.0",
          "model_name": "LayoutModel",
          "state": {
            "_model_module": "@jupyter-widgets/base",
            "_model_module_version": "1.2.0",
            "_model_name": "LayoutModel",
            "_view_count": null,
            "_view_module": "@jupyter-widgets/base",
            "_view_module_version": "1.2.0",
            "_view_name": "LayoutView",
            "align_content": null,
            "align_items": null,
            "align_self": null,
            "border": null,
            "bottom": null,
            "display": null,
            "flex": null,
            "flex_flow": null,
            "grid_area": null,
            "grid_auto_columns": null,
            "grid_auto_flow": null,
            "grid_auto_rows": null,
            "grid_column": null,
            "grid_gap": null,
            "grid_row": null,
            "grid_template_areas": null,
            "grid_template_columns": null,
            "grid_template_rows": null,
            "height": null,
            "justify_content": null,
            "justify_items": null,
            "left": null,
            "margin": null,
            "max_height": null,
            "max_width": null,
            "min_height": null,
            "min_width": null,
            "object_fit": null,
            "object_position": null,
            "order": null,
            "overflow": null,
            "overflow_x": null,
            "overflow_y": null,
            "padding": null,
            "right": null,
            "top": null,
            "visibility": null,
            "width": null
          }
        },
        "11585a767573408ead07e4c2e76db252": {
          "model_module": "@jupyter-widgets/base",
          "model_module_version": "1.2.0",
          "model_name": "LayoutModel",
          "state": {
            "_model_module": "@jupyter-widgets/base",
            "_model_module_version": "1.2.0",
            "_model_name": "LayoutModel",
            "_view_count": null,
            "_view_module": "@jupyter-widgets/base",
            "_view_module_version": "1.2.0",
            "_view_name": "LayoutView",
            "align_content": null,
            "align_items": null,
            "align_self": null,
            "border": null,
            "bottom": null,
            "display": null,
            "flex": null,
            "flex_flow": null,
            "grid_area": null,
            "grid_auto_columns": null,
            "grid_auto_flow": null,
            "grid_auto_rows": null,
            "grid_column": null,
            "grid_gap": null,
            "grid_row": null,
            "grid_template_areas": null,
            "grid_template_columns": null,
            "grid_template_rows": null,
            "height": null,
            "justify_content": null,
            "justify_items": null,
            "left": null,
            "margin": null,
            "max_height": null,
            "max_width": null,
            "min_height": null,
            "min_width": null,
            "object_fit": null,
            "object_position": null,
            "order": null,
            "overflow": null,
            "overflow_x": null,
            "overflow_y": null,
            "padding": null,
            "right": null,
            "top": null,
            "visibility": null,
            "width": null
          }
        },
        "1f9d17cb13584d5e8e59cd67f90ffcda": {
          "model_module": "@jupyter-widgets/base",
          "model_module_version": "1.2.0",
          "model_name": "LayoutModel",
          "state": {
            "_model_module": "@jupyter-widgets/base",
            "_model_module_version": "1.2.0",
            "_model_name": "LayoutModel",
            "_view_count": null,
            "_view_module": "@jupyter-widgets/base",
            "_view_module_version": "1.2.0",
            "_view_name": "LayoutView",
            "align_content": null,
            "align_items": null,
            "align_self": null,
            "border": null,
            "bottom": null,
            "display": null,
            "flex": null,
            "flex_flow": null,
            "grid_area": null,
            "grid_auto_columns": null,
            "grid_auto_flow": null,
            "grid_auto_rows": null,
            "grid_column": null,
            "grid_gap": null,
            "grid_row": null,
            "grid_template_areas": null,
            "grid_template_columns": null,
            "grid_template_rows": null,
            "height": null,
            "justify_content": null,
            "justify_items": null,
            "left": null,
            "margin": null,
            "max_height": null,
            "max_width": null,
            "min_height": null,
            "min_width": null,
            "object_fit": null,
            "object_position": null,
            "order": null,
            "overflow": null,
            "overflow_x": null,
            "overflow_y": null,
            "padding": null,
            "right": null,
            "top": null,
            "visibility": null,
            "width": null
          }
        },
        "2108eb665758492f95e1d0cb1cd7aa41": {
          "model_module": "@jupyter-widgets/controls",
          "model_module_version": "1.5.0",
          "model_name": "ProgressStyleModel",
          "state": {
            "_model_module": "@jupyter-widgets/controls",
            "_model_module_version": "1.5.0",
            "_model_name": "ProgressStyleModel",
            "_view_count": null,
            "_view_module": "@jupyter-widgets/base",
            "_view_module_version": "1.2.0",
            "_view_name": "StyleView",
            "bar_color": null,
            "description_width": ""
          }
        },
        "274c563b827546f4aa587136406260b7": {
          "model_module": "@jupyter-widgets/base",
          "model_module_version": "1.2.0",
          "model_name": "LayoutModel",
          "state": {
            "_model_module": "@jupyter-widgets/base",
            "_model_module_version": "1.2.0",
            "_model_name": "LayoutModel",
            "_view_count": null,
            "_view_module": "@jupyter-widgets/base",
            "_view_module_version": "1.2.0",
            "_view_name": "LayoutView",
            "align_content": null,
            "align_items": null,
            "align_self": null,
            "border": null,
            "bottom": null,
            "display": null,
            "flex": null,
            "flex_flow": null,
            "grid_area": null,
            "grid_auto_columns": null,
            "grid_auto_flow": null,
            "grid_auto_rows": null,
            "grid_column": null,
            "grid_gap": null,
            "grid_row": null,
            "grid_template_areas": null,
            "grid_template_columns": null,
            "grid_template_rows": null,
            "height": null,
            "justify_content": null,
            "justify_items": null,
            "left": null,
            "margin": null,
            "max_height": null,
            "max_width": null,
            "min_height": null,
            "min_width": null,
            "object_fit": null,
            "object_position": null,
            "order": null,
            "overflow": null,
            "overflow_x": null,
            "overflow_y": null,
            "padding": null,
            "right": null,
            "top": null,
            "visibility": null,
            "width": null
          }
        },
        "3bd1ba9375d746049d50c0f4a78f424f": {
          "model_module": "@jupyter-widgets/controls",
          "model_module_version": "1.5.0",
          "model_name": "DescriptionStyleModel",
          "state": {
            "_model_module": "@jupyter-widgets/controls",
            "_model_module_version": "1.5.0",
            "_model_name": "DescriptionStyleModel",
            "_view_count": null,
            "_view_module": "@jupyter-widgets/base",
            "_view_module_version": "1.2.0",
            "_view_name": "StyleView",
            "description_width": ""
          }
        },
        "3f8c21a917504a85b9295d5567489080": {
          "model_module": "@jupyter-widgets/base",
          "model_module_version": "1.2.0",
          "model_name": "LayoutModel",
          "state": {
            "_model_module": "@jupyter-widgets/base",
            "_model_module_version": "1.2.0",
            "_model_name": "LayoutModel",
            "_view_count": null,
            "_view_module": "@jupyter-widgets/base",
            "_view_module_version": "1.2.0",
            "_view_name": "LayoutView",
            "align_content": null,
            "align_items": null,
            "align_self": null,
            "border": null,
            "bottom": null,
            "display": null,
            "flex": null,
            "flex_flow": null,
            "grid_area": null,
            "grid_auto_columns": null,
            "grid_auto_flow": null,
            "grid_auto_rows": null,
            "grid_column": null,
            "grid_gap": null,
            "grid_row": null,
            "grid_template_areas": null,
            "grid_template_columns": null,
            "grid_template_rows": null,
            "height": null,
            "justify_content": null,
            "justify_items": null,
            "left": null,
            "margin": null,
            "max_height": null,
            "max_width": null,
            "min_height": null,
            "min_width": null,
            "object_fit": null,
            "object_position": null,
            "order": null,
            "overflow": null,
            "overflow_x": null,
            "overflow_y": null,
            "padding": null,
            "right": null,
            "top": null,
            "visibility": null,
            "width": null
          }
        },
        "47d052f2b9cf427d84b9e58e3efa093d": {
          "model_module": "@jupyter-widgets/controls",
          "model_module_version": "1.5.0",
          "model_name": "HTMLModel",
          "state": {
            "_dom_classes": [],
            "_model_module": "@jupyter-widgets/controls",
            "_model_module_version": "1.5.0",
            "_model_name": "HTMLModel",
            "_view_count": null,
            "_view_module": "@jupyter-widgets/controls",
            "_view_module_version": "1.5.0",
            "_view_name": "HTMLView",
            "description": "",
            "description_tooltip": null,
            "layout": "IPY_MODEL_5fbec65de205434b943f3a42bc010df5",
            "placeholder": "​",
            "style": "IPY_MODEL_dd0adb07e41249d7aeabde675728643f",
            "value": " 170498071/170498071 [00:05&lt;00:00, 32404042.22it/s]"
          }
        },
        "4bb37c6c47b945428aba0c25deb7c119": {
          "model_module": "@jupyter-widgets/base",
          "model_module_version": "1.2.0",
          "model_name": "LayoutModel",
          "state": {
            "_model_module": "@jupyter-widgets/base",
            "_model_module_version": "1.2.0",
            "_model_name": "LayoutModel",
            "_view_count": null,
            "_view_module": "@jupyter-widgets/base",
            "_view_module_version": "1.2.0",
            "_view_name": "LayoutView",
            "align_content": null,
            "align_items": null,
            "align_self": null,
            "border": null,
            "bottom": null,
            "display": null,
            "flex": null,
            "flex_flow": null,
            "grid_area": null,
            "grid_auto_columns": null,
            "grid_auto_flow": null,
            "grid_auto_rows": null,
            "grid_column": null,
            "grid_gap": null,
            "grid_row": null,
            "grid_template_areas": null,
            "grid_template_columns": null,
            "grid_template_rows": null,
            "height": null,
            "justify_content": null,
            "justify_items": null,
            "left": null,
            "margin": null,
            "max_height": null,
            "max_width": null,
            "min_height": null,
            "min_width": null,
            "object_fit": null,
            "object_position": null,
            "order": null,
            "overflow": null,
            "overflow_x": null,
            "overflow_y": null,
            "padding": null,
            "right": null,
            "top": null,
            "visibility": null,
            "width": null
          }
        },
        "4d4c8cd2420d4f9982d5f9087fc737e4": {
          "model_module": "@jupyter-widgets/base",
          "model_module_version": "1.2.0",
          "model_name": "LayoutModel",
          "state": {
            "_model_module": "@jupyter-widgets/base",
            "_model_module_version": "1.2.0",
            "_model_name": "LayoutModel",
            "_view_count": null,
            "_view_module": "@jupyter-widgets/base",
            "_view_module_version": "1.2.0",
            "_view_name": "LayoutView",
            "align_content": null,
            "align_items": null,
            "align_self": null,
            "border": null,
            "bottom": null,
            "display": null,
            "flex": null,
            "flex_flow": null,
            "grid_area": null,
            "grid_auto_columns": null,
            "grid_auto_flow": null,
            "grid_auto_rows": null,
            "grid_column": null,
            "grid_gap": null,
            "grid_row": null,
            "grid_template_areas": null,
            "grid_template_columns": null,
            "grid_template_rows": null,
            "height": null,
            "justify_content": null,
            "justify_items": null,
            "left": null,
            "margin": null,
            "max_height": null,
            "max_width": null,
            "min_height": null,
            "min_width": null,
            "object_fit": null,
            "object_position": null,
            "order": null,
            "overflow": null,
            "overflow_x": null,
            "overflow_y": null,
            "padding": null,
            "right": null,
            "top": null,
            "visibility": null,
            "width": null
          }
        },
        "5307bf8b3a0a48128cbb938144fd0a1b": {
          "model_module": "@jupyter-widgets/controls",
          "model_module_version": "1.5.0",
          "model_name": "FloatProgressModel",
          "state": {
            "_dom_classes": [],
            "_model_module": "@jupyter-widgets/controls",
            "_model_module_version": "1.5.0",
            "_model_name": "FloatProgressModel",
            "_view_count": null,
            "_view_module": "@jupyter-widgets/controls",
            "_view_module_version": "1.5.0",
            "_view_name": "ProgressView",
            "bar_style": "success",
            "description": "",
            "description_tooltip": null,
            "layout": "IPY_MODEL_59bb4b3e47474a6680ba9e4a643939bd",
            "max": 170498071,
            "min": 0,
            "orientation": "horizontal",
            "style": "IPY_MODEL_b7244f4fbe8b4c33b3a8634af3336510",
            "value": 170498071
          }
        },
        "5576382155d94c6f927a97c962c1705f": {
          "model_module": "@jupyter-widgets/controls",
          "model_module_version": "1.5.0",
          "model_name": "HTMLModel",
          "state": {
            "_dom_classes": [],
            "_model_module": "@jupyter-widgets/controls",
            "_model_module_version": "1.5.0",
            "_model_name": "HTMLModel",
            "_view_count": null,
            "_view_module": "@jupyter-widgets/controls",
            "_view_module_version": "1.5.0",
            "_view_name": "HTMLView",
            "description": "",
            "description_tooltip": null,
            "layout": "IPY_MODEL_4bb37c6c47b945428aba0c25deb7c119",
            "placeholder": "​",
            "style": "IPY_MODEL_56be905922b547a7912def1939b6125e",
            "value": "100%"
          }
        },
        "56be905922b547a7912def1939b6125e": {
          "model_module": "@jupyter-widgets/controls",
          "model_module_version": "1.5.0",
          "model_name": "DescriptionStyleModel",
          "state": {
            "_model_module": "@jupyter-widgets/controls",
            "_model_module_version": "1.5.0",
            "_model_name": "DescriptionStyleModel",
            "_view_count": null,
            "_view_module": "@jupyter-widgets/base",
            "_view_module_version": "1.2.0",
            "_view_name": "StyleView",
            "description_width": ""
          }
        },
        "59bb4b3e47474a6680ba9e4a643939bd": {
          "model_module": "@jupyter-widgets/base",
          "model_module_version": "1.2.0",
          "model_name": "LayoutModel",
          "state": {
            "_model_module": "@jupyter-widgets/base",
            "_model_module_version": "1.2.0",
            "_model_name": "LayoutModel",
            "_view_count": null,
            "_view_module": "@jupyter-widgets/base",
            "_view_module_version": "1.2.0",
            "_view_name": "LayoutView",
            "align_content": null,
            "align_items": null,
            "align_self": null,
            "border": null,
            "bottom": null,
            "display": null,
            "flex": null,
            "flex_flow": null,
            "grid_area": null,
            "grid_auto_columns": null,
            "grid_auto_flow": null,
            "grid_auto_rows": null,
            "grid_column": null,
            "grid_gap": null,
            "grid_row": null,
            "grid_template_areas": null,
            "grid_template_columns": null,
            "grid_template_rows": null,
            "height": null,
            "justify_content": null,
            "justify_items": null,
            "left": null,
            "margin": null,
            "max_height": null,
            "max_width": null,
            "min_height": null,
            "min_width": null,
            "object_fit": null,
            "object_position": null,
            "order": null,
            "overflow": null,
            "overflow_x": null,
            "overflow_y": null,
            "padding": null,
            "right": null,
            "top": null,
            "visibility": null,
            "width": null
          }
        },
        "5a32f8d3393b4899b21eb5b1fe8c3d02": {
          "model_module": "@jupyter-widgets/controls",
          "model_module_version": "1.5.0",
          "model_name": "HTMLModel",
          "state": {
            "_dom_classes": [],
            "_model_module": "@jupyter-widgets/controls",
            "_model_module_version": "1.5.0",
            "_model_name": "HTMLModel",
            "_view_count": null,
            "_view_module": "@jupyter-widgets/controls",
            "_view_module_version": "1.5.0",
            "_view_name": "HTMLView",
            "description": "",
            "description_tooltip": null,
            "layout": "IPY_MODEL_274c563b827546f4aa587136406260b7",
            "placeholder": "​",
            "style": "IPY_MODEL_00fa96d253634096b9d1da338c1db588",
            "value": "100%"
          }
        },
        "5fbec65de205434b943f3a42bc010df5": {
          "model_module": "@jupyter-widgets/base",
          "model_module_version": "1.2.0",
          "model_name": "LayoutModel",
          "state": {
            "_model_module": "@jupyter-widgets/base",
            "_model_module_version": "1.2.0",
            "_model_name": "LayoutModel",
            "_view_count": null,
            "_view_module": "@jupyter-widgets/base",
            "_view_module_version": "1.2.0",
            "_view_name": "LayoutView",
            "align_content": null,
            "align_items": null,
            "align_self": null,
            "border": null,
            "bottom": null,
            "display": null,
            "flex": null,
            "flex_flow": null,
            "grid_area": null,
            "grid_auto_columns": null,
            "grid_auto_flow": null,
            "grid_auto_rows": null,
            "grid_column": null,
            "grid_gap": null,
            "grid_row": null,
            "grid_template_areas": null,
            "grid_template_columns": null,
            "grid_template_rows": null,
            "height": null,
            "justify_content": null,
            "justify_items": null,
            "left": null,
            "margin": null,
            "max_height": null,
            "max_width": null,
            "min_height": null,
            "min_width": null,
            "object_fit": null,
            "object_position": null,
            "order": null,
            "overflow": null,
            "overflow_x": null,
            "overflow_y": null,
            "padding": null,
            "right": null,
            "top": null,
            "visibility": null,
            "width": null
          }
        },
        "7809f409dc2543b6a682cd573dc1ff07": {
          "model_module": "@jupyter-widgets/controls",
          "model_module_version": "1.5.0",
          "model_name": "HBoxModel",
          "state": {
            "_dom_classes": [],
            "_model_module": "@jupyter-widgets/controls",
            "_model_module_version": "1.5.0",
            "_model_name": "HBoxModel",
            "_view_count": null,
            "_view_module": "@jupyter-widgets/controls",
            "_view_module_version": "1.5.0",
            "_view_name": "HBoxView",
            "box_style": "",
            "children": [
              "IPY_MODEL_5576382155d94c6f927a97c962c1705f",
              "IPY_MODEL_5307bf8b3a0a48128cbb938144fd0a1b",
              "IPY_MODEL_001d6e7a24bf45a2ac16db28561dd7a2"
            ],
            "layout": "IPY_MODEL_b49bf038f39b4ccba509ba242337cfab"
          }
        },
        "887c298aa6c74eb183fe8dca7ad7f1b1": {
          "model_module": "@jupyter-widgets/controls",
          "model_module_version": "1.5.0",
          "model_name": "HTMLModel",
          "state": {
            "_dom_classes": [],
            "_model_module": "@jupyter-widgets/controls",
            "_model_module_version": "1.5.0",
            "_model_name": "HTMLModel",
            "_view_count": null,
            "_view_module": "@jupyter-widgets/controls",
            "_view_module_version": "1.5.0",
            "_view_name": "HTMLView",
            "description": "",
            "description_tooltip": null,
            "layout": "IPY_MODEL_1f9d17cb13584d5e8e59cd67f90ffcda",
            "placeholder": "​",
            "style": "IPY_MODEL_a8d47791f8aa4b86aca815e1e5ba7e0b",
            "value": " 44.7M/44.7M [00:00&lt;00:00, 156MB/s]"
          }
        },
        "a8d47791f8aa4b86aca815e1e5ba7e0b": {
          "model_module": "@jupyter-widgets/controls",
          "model_module_version": "1.5.0",
          "model_name": "DescriptionStyleModel",
          "state": {
            "_model_module": "@jupyter-widgets/controls",
            "_model_module_version": "1.5.0",
            "_model_name": "DescriptionStyleModel",
            "_view_count": null,
            "_view_module": "@jupyter-widgets/base",
            "_view_module_version": "1.2.0",
            "_view_name": "StyleView",
            "description_width": ""
          }
        },
        "a90bb571d9354f34b9da9295c29eaadb": {
          "model_module": "@jupyter-widgets/base",
          "model_module_version": "1.2.0",
          "model_name": "LayoutModel",
          "state": {
            "_model_module": "@jupyter-widgets/base",
            "_model_module_version": "1.2.0",
            "_model_name": "LayoutModel",
            "_view_count": null,
            "_view_module": "@jupyter-widgets/base",
            "_view_module_version": "1.2.0",
            "_view_name": "LayoutView",
            "align_content": null,
            "align_items": null,
            "align_self": null,
            "border": null,
            "bottom": null,
            "display": null,
            "flex": null,
            "flex_flow": null,
            "grid_area": null,
            "grid_auto_columns": null,
            "grid_auto_flow": null,
            "grid_auto_rows": null,
            "grid_column": null,
            "grid_gap": null,
            "grid_row": null,
            "grid_template_areas": null,
            "grid_template_columns": null,
            "grid_template_rows": null,
            "height": null,
            "justify_content": null,
            "justify_items": null,
            "left": null,
            "margin": null,
            "max_height": null,
            "max_width": null,
            "min_height": null,
            "min_width": null,
            "object_fit": null,
            "object_position": null,
            "order": null,
            "overflow": null,
            "overflow_x": null,
            "overflow_y": null,
            "padding": null,
            "right": null,
            "top": null,
            "visibility": null,
            "width": null
          }
        },
        "aa5e8f212ad24072a9036614cb4024fc": {
          "model_module": "@jupyter-widgets/base",
          "model_module_version": "1.2.0",
          "model_name": "LayoutModel",
          "state": {
            "_model_module": "@jupyter-widgets/base",
            "_model_module_version": "1.2.0",
            "_model_name": "LayoutModel",
            "_view_count": null,
            "_view_module": "@jupyter-widgets/base",
            "_view_module_version": "1.2.0",
            "_view_name": "LayoutView",
            "align_content": null,
            "align_items": null,
            "align_self": null,
            "border": null,
            "bottom": null,
            "display": null,
            "flex": null,
            "flex_flow": null,
            "grid_area": null,
            "grid_auto_columns": null,
            "grid_auto_flow": null,
            "grid_auto_rows": null,
            "grid_column": null,
            "grid_gap": null,
            "grid_row": null,
            "grid_template_areas": null,
            "grid_template_columns": null,
            "grid_template_rows": null,
            "height": null,
            "justify_content": null,
            "justify_items": null,
            "left": null,
            "margin": null,
            "max_height": null,
            "max_width": null,
            "min_height": null,
            "min_width": null,
            "object_fit": null,
            "object_position": null,
            "order": null,
            "overflow": null,
            "overflow_x": null,
            "overflow_y": null,
            "padding": null,
            "right": null,
            "top": null,
            "visibility": null,
            "width": null
          }
        },
        "b49bf038f39b4ccba509ba242337cfab": {
          "model_module": "@jupyter-widgets/base",
          "model_module_version": "1.2.0",
          "model_name": "LayoutModel",
          "state": {
            "_model_module": "@jupyter-widgets/base",
            "_model_module_version": "1.2.0",
            "_model_name": "LayoutModel",
            "_view_count": null,
            "_view_module": "@jupyter-widgets/base",
            "_view_module_version": "1.2.0",
            "_view_name": "LayoutView",
            "align_content": null,
            "align_items": null,
            "align_self": null,
            "border": null,
            "bottom": null,
            "display": null,
            "flex": null,
            "flex_flow": null,
            "grid_area": null,
            "grid_auto_columns": null,
            "grid_auto_flow": null,
            "grid_auto_rows": null,
            "grid_column": null,
            "grid_gap": null,
            "grid_row": null,
            "grid_template_areas": null,
            "grid_template_columns": null,
            "grid_template_rows": null,
            "height": null,
            "justify_content": null,
            "justify_items": null,
            "left": null,
            "margin": null,
            "max_height": null,
            "max_width": null,
            "min_height": null,
            "min_width": null,
            "object_fit": null,
            "object_position": null,
            "order": null,
            "overflow": null,
            "overflow_x": null,
            "overflow_y": null,
            "padding": null,
            "right": null,
            "top": null,
            "visibility": null,
            "width": null
          }
        },
        "b7244f4fbe8b4c33b3a8634af3336510": {
          "model_module": "@jupyter-widgets/controls",
          "model_module_version": "1.5.0",
          "model_name": "ProgressStyleModel",
          "state": {
            "_model_module": "@jupyter-widgets/controls",
            "_model_module_version": "1.5.0",
            "_model_name": "ProgressStyleModel",
            "_view_count": null,
            "_view_module": "@jupyter-widgets/base",
            "_view_module_version": "1.2.0",
            "_view_name": "StyleView",
            "bar_color": null,
            "description_width": ""
          }
        },
        "c83ad95841e749fbb02f47ff56dd9b1a": {
          "model_module": "@jupyter-widgets/controls",
          "model_module_version": "1.5.0",
          "model_name": "FloatProgressModel",
          "state": {
            "_dom_classes": [],
            "_model_module": "@jupyter-widgets/controls",
            "_model_module_version": "1.5.0",
            "_model_name": "FloatProgressModel",
            "_view_count": null,
            "_view_module": "@jupyter-widgets/controls",
            "_view_module_version": "1.5.0",
            "_view_name": "ProgressView",
            "bar_style": "success",
            "description": "",
            "description_tooltip": null,
            "layout": "IPY_MODEL_4d4c8cd2420d4f9982d5f9087fc737e4",
            "max": 46830571,
            "min": 0,
            "orientation": "horizontal",
            "style": "IPY_MODEL_2108eb665758492f95e1d0cb1cd7aa41",
            "value": 46830571
          }
        },
        "cfe417040f2c41e1a8fa4ecc50a51064": {
          "model_module": "@jupyter-widgets/controls",
          "model_module_version": "1.5.0",
          "model_name": "HBoxModel",
          "state": {
            "_dom_classes": [],
            "_model_module": "@jupyter-widgets/controls",
            "_model_module_version": "1.5.0",
            "_model_name": "HBoxModel",
            "_view_count": null,
            "_view_module": "@jupyter-widgets/controls",
            "_view_module_version": "1.5.0",
            "_view_name": "HBoxView",
            "box_style": "",
            "children": [
              "IPY_MODEL_d6d7d30f88f94be3bb6d762f80fb55b0",
              "IPY_MODEL_c83ad95841e749fbb02f47ff56dd9b1a",
              "IPY_MODEL_887c298aa6c74eb183fe8dca7ad7f1b1"
            ],
            "layout": "IPY_MODEL_aa5e8f212ad24072a9036614cb4024fc"
          }
        },
        "d2174e3dd71044c0b148aaa368a5014d": {
          "model_module": "@jupyter-widgets/controls",
          "model_module_version": "1.5.0",
          "model_name": "HBoxModel",
          "state": {
            "_dom_classes": [],
            "_model_module": "@jupyter-widgets/controls",
            "_model_module_version": "1.5.0",
            "_model_name": "HBoxModel",
            "_view_count": null,
            "_view_module": "@jupyter-widgets/controls",
            "_view_module_version": "1.5.0",
            "_view_name": "HBoxView",
            "box_style": "",
            "children": [
              "IPY_MODEL_5a32f8d3393b4899b21eb5b1fe8c3d02",
              "IPY_MODEL_0589600ee2fd449da028abb961527185",
              "IPY_MODEL_47d052f2b9cf427d84b9e58e3efa093d"
            ],
            "layout": "IPY_MODEL_a90bb571d9354f34b9da9295c29eaadb"
          }
        },
        "d5e1742d031e4ff3b02f9b43701032e1": {
          "model_module": "@jupyter-widgets/controls",
          "model_module_version": "1.5.0",
          "model_name": "DescriptionStyleModel",
          "state": {
            "_model_module": "@jupyter-widgets/controls",
            "_model_module_version": "1.5.0",
            "_model_name": "DescriptionStyleModel",
            "_view_count": null,
            "_view_module": "@jupyter-widgets/base",
            "_view_module_version": "1.2.0",
            "_view_name": "StyleView",
            "description_width": ""
          }
        },
        "d6d7d30f88f94be3bb6d762f80fb55b0": {
          "model_module": "@jupyter-widgets/controls",
          "model_module_version": "1.5.0",
          "model_name": "HTMLModel",
          "state": {
            "_dom_classes": [],
            "_model_module": "@jupyter-widgets/controls",
            "_model_module_version": "1.5.0",
            "_model_name": "HTMLModel",
            "_view_count": null,
            "_view_module": "@jupyter-widgets/controls",
            "_view_module_version": "1.5.0",
            "_view_name": "HTMLView",
            "description": "",
            "description_tooltip": null,
            "layout": "IPY_MODEL_3f8c21a917504a85b9295d5567489080",
            "placeholder": "​",
            "style": "IPY_MODEL_d5e1742d031e4ff3b02f9b43701032e1",
            "value": "100%"
          }
        },
        "dd0adb07e41249d7aeabde675728643f": {
          "model_module": "@jupyter-widgets/controls",
          "model_module_version": "1.5.0",
          "model_name": "DescriptionStyleModel",
          "state": {
            "_model_module": "@jupyter-widgets/controls",
            "_model_module_version": "1.5.0",
            "_model_name": "DescriptionStyleModel",
            "_view_count": null,
            "_view_module": "@jupyter-widgets/base",
            "_view_module_version": "1.2.0",
            "_view_name": "StyleView",
            "description_width": ""
          }
        },
        "f75c4181d30f406095a99fc29ebb0dcf": {
          "model_module": "@jupyter-widgets/controls",
          "model_module_version": "1.5.0",
          "model_name": "ProgressStyleModel",
          "state": {
            "_model_module": "@jupyter-widgets/controls",
            "_model_module_version": "1.5.0",
            "_model_name": "ProgressStyleModel",
            "_view_count": null,
            "_view_module": "@jupyter-widgets/base",
            "_view_module_version": "1.2.0",
            "_view_name": "StyleView",
            "bar_color": null,
            "description_width": ""
          }
        }
      }
    }
  },
  "nbformat": 4,
  "nbformat_minor": 0
}
