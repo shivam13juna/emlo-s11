{
  "cells": [
    {
      "cell_type": "code",
      "execution_count": 1,
      "metadata": {
        "id": "wHZ5XBbQKPSJ"
      },
      "outputs": [
        {
          "name": "stderr",
          "output_type": "stream",
          "text": [
            "/home/shivam13juna/Documents/virtual_envs/mlo/lib/python3.10/site-packages/tqdm/auto.py:22: TqdmWarning: IProgress not found. Please update jupyter and ipywidgets. See https://ipywidgets.readthedocs.io/en/stable/user_install.html\n",
            "  from .autonotebook import tqdm as notebook_tqdm\n"
          ]
        }
      ],
      "source": [
        "import torch\n",
        "import torch.nn as nn\n",
        "\n",
        "import torchvision\n",
        "import torchvision.transforms as transforms\n",
        "import torch.nn.functional as F\n",
        "import matplotlib.pyplot as plt\n",
        "import numpy as np\n",
        "import seaborn as sns\n",
        "from torch.utils.data import random_split, DataLoader, TensorDataset"
      ]
    },
    {
      "cell_type": "code",
      "execution_count": 2,
      "metadata": {
        "colab": {
          "base_uri": "https://localhost:8080/"
        },
        "id": "-nTR-4_hKF2H",
        "outputId": "91534617-06f1-488a-eeeb-f8d040be69e9"
      },
      "outputs": [
        {
          "name": "stdout",
          "output_type": "stream",
          "text": [
            "cuda\n"
          ]
        }
      ],
      "source": [
        "# set random seed and device\n",
        "seed = 0\n",
        "torch.manual_seed(seed)\n",
        "torch.cuda.manual_seed(seed)\n",
        "\n",
        "device = torch.device('cuda' if torch.cuda.is_available() else 'cpu')\n",
        "print(device)"
      ]
    },
    {
      "cell_type": "code",
      "execution_count": 3,
      "metadata": {
        "id": "IIrcg-9TKQnu"
      },
      "outputs": [],
      "source": [
        "# define encoder\n",
        "encoder_net = nn.Sequential(\n",
        "    nn.Conv2d(3, 64, 4, stride=2, padding=0),\n",
        "    nn.ReLU(),\n",
        "    nn.Conv2d(64, 128, 4, stride=2, padding=0),\n",
        "    nn.ReLU(),\n",
        "    nn.Conv2d(128, 512, 4, stride=2, padding=0),\n",
        "    nn.ReLU(),\n",
        "    nn.Flatten(),\n",
        "    nn.Linear(2048, 10)\n",
        ").to(device)"
      ]
    },
    {
      "cell_type": "code",
      "execution_count": 4,
      "metadata": {
        "colab": {
          "base_uri": "https://localhost:8080/",
          "height": 84,
          "referenced_widgets": [
            "d2174e3dd71044c0b148aaa368a5014d",
            "5a32f8d3393b4899b21eb5b1fe8c3d02",
            "0589600ee2fd449da028abb961527185",
            "47d052f2b9cf427d84b9e58e3efa093d",
            "a90bb571d9354f34b9da9295c29eaadb",
            "274c563b827546f4aa587136406260b7",
            "00fa96d253634096b9d1da338c1db588",
            "11585a767573408ead07e4c2e76db252",
            "f75c4181d30f406095a99fc29ebb0dcf",
            "5fbec65de205434b943f3a42bc010df5",
            "dd0adb07e41249d7aeabde675728643f"
          ]
        },
        "id": "23K08paqtlIS",
        "outputId": "63587eaf-c3b9-4795-a63d-f95db078d029"
      },
      "outputs": [
        {
          "name": "stdout",
          "output_type": "stream",
          "text": [
            "Downloading https://www.cs.toronto.edu/~kriz/cifar-10-python.tar.gz to data/cifar-10-python.tar.gz\n"
          ]
        },
        {
          "name": "stderr",
          "output_type": "stream",
          "text": [
            "170499072it [00:36, 4692057.38it/s]                               \n"
          ]
        },
        {
          "name": "stdout",
          "output_type": "stream",
          "text": [
            "Extracting data/cifar-10-python.tar.gz to data/\n"
          ]
        }
      ],
      "source": [
        "batch_size = 128\n",
        "\n",
        "num_classes = 10\n",
        "\n",
        "train_ds = torchvision.datasets.CIFAR10(root=\"data/\", train=True, transform=transforms.ToTensor(), download=True)\n",
        "test_ds = torchvision.datasets.CIFAR10(root=\"data/\", train=False, transform=transforms.ToTensor())\n",
        "\n",
        "train_loader = DataLoader(train_ds, batch_size=batch_size, shuffle=True)\n",
        "test_loader = DataLoader(test_ds, batch_size)"
      ]
    },
    {
      "cell_type": "code",
      "execution_count": 5,
      "metadata": {
        "id": "N5Zum7zNtzXX"
      },
      "outputs": [],
      "source": [
        "model = encoder_net\n",
        "criterion = nn.CrossEntropyLoss()\n",
        "opt = torch.optim.SGD(model.parameters(), lr=0.01, momentum=0.9)"
      ]
    },
    {
      "cell_type": "code",
      "execution_count": 6,
      "metadata": {
        "colab": {
          "base_uri": "https://localhost:8080/"
        },
        "id": "ZEjuhGgEt-si",
        "outputId": "dd293f3a-aa09-48d2-9e80-c70759da0115"
      },
      "outputs": [
        {
          "data": {
            "text/plain": [
              "Sequential(\n",
              "  (0): Conv2d(3, 64, kernel_size=(4, 4), stride=(2, 2))\n",
              "  (1): ReLU()\n",
              "  (2): Conv2d(64, 128, kernel_size=(4, 4), stride=(2, 2))\n",
              "  (3): ReLU()\n",
              "  (4): Conv2d(128, 512, kernel_size=(4, 4), stride=(2, 2))\n",
              "  (5): ReLU()\n",
              "  (6): Flatten(start_dim=1, end_dim=-1)\n",
              "  (7): Linear(in_features=2048, out_features=10, bias=True)\n",
              ")"
            ]
          },
          "execution_count": 6,
          "metadata": {},
          "output_type": "execute_result"
        }
      ],
      "source": [
        "model.train()\n",
        "\n",
        "for epoch in range(10):\n",
        "    print(\"Epoch: \", epoch)\n",
        "    for xb, yb in train_loader:\n",
        "        xb, yb = xb.to(device), yb.to(device)\n",
        "        out = model(xb)\n",
        "        loss = criterion(out, yb)\n",
        "        loss.backward()\n",
        "        opt.step()\n",
        "        opt.zero_grad()\n",
        "\n",
        "model.eval()"
      ]
    },
    {
      "cell_type": "code",
      "execution_count": 7,
      "metadata": {
        "colab": {
          "base_uri": "https://localhost:8080/"
        },
        "id": "FxR0k0RDMwMv",
        "outputId": "59db1cb1-0c33-42eb-8fa6-4ce74edff8ea"
      },
      "outputs": [
        {
          "data": {
            "text/plain": [
              "<torch._C.Generator at 0x7fb46851c650>"
            ]
          },
          "execution_count": 7,
          "metadata": {},
          "output_type": "execute_result"
        }
      ],
      "source": [
        "from functools import partial\n",
        "import matplotlib.pyplot as plt\n",
        "import numpy as np\n",
        "\n",
        "from alibi_detect.cd import MMDDrift\n",
        "from alibi_detect.models.tensorflow import scale_by_instance\n",
        "from alibi_detect.saving import save_detector, load_detector\n",
        "from alibi_detect.datasets import fetch_cifar10c, corruption_types_cifar10c\n",
        "from alibi_detect.cd.pytorch import preprocess_drift\n",
        "\n",
        "from torchvision.datasets import CIFAR10\n",
        "\n",
        "from torch.utils.data.dataloader import DataLoader\n",
        "\n",
        "import torchvision.transforms as T\n",
        "\n",
        "torch.manual_seed(42)"
      ]
    },
    {
      "cell_type": "code",
      "execution_count": 11,
      "metadata": {
        "id": "LEFwBKEAhg1r"
      },
      "outputs": [],
      "source": [
        "test_transforms = T.Compose([\n",
        "    T.ToTensor(),\n",
        "    # this is not required as i trained without any normalization ;)\n",
        "    # but never do this in production\n",
        "    # T.Normalize(\n",
        "    #     mean=[0.491, 0.482, 0.446],\n",
        "    #     std=[0.247, 0.243, 0.261]\n",
        "    # )\n",
        "])"
      ]
    },
    {
      "cell_type": "code",
      "execution_count": 12,
      "metadata": {
        "colab": {
          "base_uri": "https://localhost:8080/",
          "height": 84,
          "referenced_widgets": [
            "7809f409dc2543b6a682cd573dc1ff07",
            "5576382155d94c6f927a97c962c1705f",
            "5307bf8b3a0a48128cbb938144fd0a1b",
            "001d6e7a24bf45a2ac16db28561dd7a2",
            "b49bf038f39b4ccba509ba242337cfab",
            "4bb37c6c47b945428aba0c25deb7c119",
            "56be905922b547a7912def1939b6125e",
            "59bb4b3e47474a6680ba9e4a643939bd",
            "b7244f4fbe8b4c33b3a8634af3336510",
            "0d39300c25ba486fb0e3a729d08fb371",
            "3bd1ba9375d746049d50c0f4a78f424f"
          ]
        },
        "id": "TBzhzyNCNa3y",
        "outputId": "b0003402-4bf2-4854-acad-e1f4c8200851"
      },
      "outputs": [
        {
          "name": "stdout",
          "output_type": "stream",
          "text": [
            "Files already downloaded and verified\n"
          ]
        }
      ],
      "source": [
        "cifar10_test_ds = CIFAR10(\"data/\", train=False, download=True, transform=test_transforms)"
      ]
    },
    {
      "cell_type": "code",
      "execution_count": 13,
      "metadata": {
        "colab": {
          "base_uri": "https://localhost:8080/"
        },
        "id": "rdyYlfqUN92m",
        "outputId": "f5f88f4b-de77-486c-8d63-905aef9f82ca"
      },
      "outputs": [
        {
          "data": {
            "text/plain": [
              "(10000, 10000)"
            ]
          },
          "execution_count": 13,
          "metadata": {},
          "output_type": "execute_result"
        }
      ],
      "source": [
        "len(cifar10_test_ds), len(cifar10_test_ds)"
      ]
    },
    {
      "cell_type": "code",
      "execution_count": 14,
      "metadata": {
        "id": "qa3YgboAgE0e"
      },
      "outputs": [],
      "source": [
        "test_ref, test_ref_h0 = torch.utils.data.random_split(cifar10_test_ds, (5_000, 5_000), )"
      ]
    },
    {
      "cell_type": "code",
      "execution_count": 15,
      "metadata": {
        "id": "2XLQCFmbg7rJ"
      },
      "outputs": [],
      "source": [
        "test_ref_data, test_ref_data_h0 = next(iter(DataLoader(test_ref, batch_size=5_000, shuffle=False))), next(iter(DataLoader(test_ref_h0, batch_size=5_000, shuffle=False)))"
      ]
    },
    {
      "cell_type": "code",
      "execution_count": 16,
      "metadata": {
        "colab": {
          "base_uri": "https://localhost:8080/"
        },
        "id": "SWutD0__hQfp",
        "outputId": "17cde121-042f-4893-b6a7-8504ce7ab65f"
      },
      "outputs": [
        {
          "data": {
            "text/plain": [
              "(torch.Size([5000, 3, 32, 32]), torch.Size([5000]))"
            ]
          },
          "execution_count": 16,
          "metadata": {},
          "output_type": "execute_result"
        }
      ],
      "source": [
        "test_ref_data[0].shape, test_ref_data[1].shape"
      ]
    },
    {
      "cell_type": "code",
      "execution_count": 17,
      "metadata": {
        "colab": {
          "base_uri": "https://localhost:8080/"
        },
        "id": "R_1dXaF-hbhJ",
        "outputId": "3c896226-c12b-400d-c499-a6380fe6db55"
      },
      "outputs": [
        {
          "data": {
            "text/plain": [
              "(torch.Size([5000, 3, 32, 32]), torch.Size([5000]))"
            ]
          },
          "execution_count": 17,
          "metadata": {},
          "output_type": "execute_result"
        }
      ],
      "source": [
        "test_ref_data_h0[0].shape, test_ref_data_h0[1].shape"
      ]
    },
    {
      "cell_type": "code",
      "execution_count": 18,
      "metadata": {
        "id": "yZFjIpYPiv7v"
      },
      "outputs": [],
      "source": [
        "classes, counts_ref = np.unique(test_ref_data[1], return_counts=True)"
      ]
    },
    {
      "cell_type": "code",
      "execution_count": 19,
      "metadata": {
        "colab": {
          "base_uri": "https://localhost:8080/"
        },
        "id": "bdCenhBmip_n",
        "outputId": "7d9e60a5-1cf8-4376-9268-e79ba9f5dbe9"
      },
      "outputs": [
        {
          "name": "stdout",
          "output_type": "stream",
          "text": [
            "Class Ref H0\n",
            "0     512 488\n",
            "1     524 476\n",
            "2     464 536\n",
            "3     488 512\n",
            "4     529 471\n",
            "5     489 511\n",
            "6     505 495\n",
            "7     506 494\n",
            "8     483 517\n",
            "9     500 500\n"
          ]
        }
      ],
      "source": [
        "n_test = test_ref_data_h0[0].shape[0]\n",
        "classes, counts_ref = np.unique(test_ref_data[1], return_counts=True)\n",
        "counts_h0 = np.unique(test_ref_data_h0[1], return_counts=True)[1]\n",
        "print('Class Ref H0')\n",
        "for cl, cref, ch0 in zip(classes, counts_ref, counts_h0):\n",
        "    print('{}     {} {}'.format(cl, cref, ch0))"
      ]
    },
    {
      "cell_type": "markdown",
      "metadata": {
        "id": "ONLLEKFC4Jpi"
      },
      "source": [
        "We are using the trained model to detect drifts !"
      ]
    },
    {
      "cell_type": "code",
      "execution_count": 20,
      "metadata": {
        "id": "MljRXSFIOUa_"
      },
      "outputs": [],
      "source": [
        "preprocess_fn = partial(preprocess_drift, model=encoder_net, device=device, batch_size=512)"
      ]
    },
    {
      "cell_type": "markdown",
      "metadata": {
        "id": "sWwrUNaPuoUN"
      },
      "source": [
        "Maximum Mean Discrepancy"
      ]
    },
    {
      "cell_type": "code",
      "execution_count": 25,
      "metadata": {},
      "outputs": [
        {
          "data": {
            "text/plain": [
              "torch.Size([5000, 3, 32, 32])"
            ]
          },
          "execution_count": 25,
          "metadata": {},
          "output_type": "execute_result"
        }
      ],
      "source": [
        "test_ref_data[0].shape"
      ]
    },
    {
      "cell_type": "code",
      "execution_count": 21,
      "metadata": {
        "id": "kZN8TcY7ks6T"
      },
      "outputs": [],
      "source": [
        "cd = MMDDrift(test_ref_data[0], backend='pytorch', p_val=.05, preprocess_fn=preprocess_fn, n_permutations=100)"
      ]
    },
    {
      "cell_type": "code",
      "execution_count": 19,
      "metadata": {
        "id": "G7UDsZOIk9nw"
      },
      "outputs": [],
      "source": [
        "import albumentations as A\n",
        "import matplotlib.pyplot as plt"
      ]
    },
    {
      "cell_type": "code",
      "execution_count": 20,
      "metadata": {
        "colab": {
          "base_uri": "https://localhost:8080/",
          "height": 266
        },
        "id": "ZkDfrF8il4w9",
        "outputId": "f4bea844-49bd-480c-b1f8-72ca2f51c69a"
      },
      "outputs": [
        {
          "data": {
            "image/png": "[encoded data removed]",
            "text/plain": [
              "<Figure size 640x480 with 1 Axes>"
            ]
          },
          "metadata": {},
          "output_type": "display_data"
        }
      ],
      "source": [
        "plt.imshow(\n",
        "    torch.tensor(test_ref_data_h0[0][10].numpy()).permute(1, 2, 0)\n",
        ")\n",
        "plt.show()"
      ]
    },
    {
      "cell_type": "code",
      "execution_count": null,
      "metadata": {
        "id": "KHjM0WRQu8pb"
      },
      "outputs": [],
      "source": [
        "classes = ('plane', 'car', 'bird', 'cat',\n",
        "           'deer', 'dog', 'frog', 'horse', 'ship', 'truck')"
      ]
    },
    {
      "cell_type": "code",
      "execution_count": null,
      "metadata": {
        "colab": {
          "base_uri": "https://localhost:8080/"
        },
        "id": "e-aPC3fjuw7F",
        "outputId": "ca831019-422d-4284-96d3-0d2896891c1e"
      },
      "outputs": [
        {
          "data": {
            "text/plain": [
              "tensor([1], device='cuda:0')"
            ]
          },
          "execution_count": 23,
          "metadata": {},
          "output_type": "execute_result"
        }
      ],
      "source": [
        "torch.argmax(encoder_net(test_ref_data_h0[0][10][None, ...].to(device)), dim=-1)"
      ]
    },
    {
      "cell_type": "markdown",
      "metadata": {
        "id": "fL9Prl6Gu9sN"
      },
      "source": [
        "The results seem to be correct"
      ]
    },
    {
      "cell_type": "code",
      "execution_count": null,
      "metadata": {
        "colab": {
          "base_uri": "https://localhost:8080/",
          "height": 266
        },
        "id": "-YtJLaUJlFTQ",
        "outputId": "fdba0985-5f9e-4ef4-9ddf-792dbea083e1"
      },
      "outputs": [
        {
          "data": {
            "image/png": "[encoded data removed]",
            "text/plain": [
              "<Figure size 432x288 with 1 Axes>"
            ]
          },
          "metadata": {
            "needs_background": "light"
          },
          "output_type": "display_data"
        }
      ],
      "source": [
        "perturb = A.RandomBrightnessContrast(\n",
        "    brightness_limit=1.5,\n",
        "    contrast_limit=0.9,\n",
        "    p=1.0\n",
        ")\n",
        "\n",
        "perturbed_image = torch.tensor(\n",
        "    perturb(\n",
        "        image=test_ref_data_h0[0][10].numpy(),\n",
        "    )['image']\n",
        ")\n",
        "\n",
        "plt.imshow(\n",
        "    perturbed_image.permute(1, 2, 0)\n",
        ")\n",
        "plt.show()"
      ]
    },
    {
      "cell_type": "code",
      "execution_count": null,
      "metadata": {
        "colab": {
          "base_uri": "https://localhost:8080/"
        },
        "id": "Kz8Xqo1CvCL1",
        "outputId": "4bab64f9-b674-43e2-f15d-ffb7505c540b"
      },
      "outputs": [
        {
          "data": {
            "text/plain": [
              "tensor([7], device='cuda:0')"
            ]
          },
          "execution_count": 31,
          "metadata": {},
          "output_type": "execute_result"
        }
      ],
      "source": [
        "torch.argmax(encoder_net(perturbed_image[None, ...].to(device)), dim=-1)"
      ]
    },
    {
      "cell_type": "markdown",
      "metadata": {
        "id": "1kEA1PKKvFwu"
      },
      "source": [
        "Look the prediction changed !"
      ]
    },
    {
      "cell_type": "markdown",
      "metadata": {
        "id": "eGB2-UHevIu5"
      },
      "source": [
        "Let's try the drift detection on the reference data"
      ]
    },
    {
      "cell_type": "code",
      "execution_count": null,
      "metadata": {
        "colab": {
          "base_uri": "https://localhost:8080/"
        },
        "id": "9pZ92i_vnZS_",
        "outputId": "21a0415d-f695-4bc2-ee58-b0bf6a5789d6"
      },
      "outputs": [
        {
          "data": {
            "text/plain": [
              "{'data': {'is_drift': 0,\n",
              "  'distance': -0.00018918514251708984,\n",
              "  'p_val': 0.4000000059604645,\n",
              "  'threshold': 0.05,\n",
              "  'distance_threshold': array(0.00683397, dtype=float32)},\n",
              " 'meta': {'name': 'MMDDriftTorch',\n",
              "  'online': False,\n",
              "  'data_type': None,\n",
              "  'version': '0.10.4',\n",
              "  'detector_type': 'drift',\n",
              "  'backend': 'pytorch'}}"
            ]
          },
          "execution_count": 32,
          "metadata": {},
          "output_type": "execute_result"
        }
      ],
      "source": [
        "cd.predict(test_ref_data_h0[0][:100])"
      ]
    },
    {
      "cell_type": "code",
      "execution_count": null,
      "metadata": {
        "id": "ZFSCDNqhqc_c"
      },
      "outputs": [],
      "source": [
        "perturbed_images = []\n",
        "\n",
        "for idx in range(100):\n",
        "    perturbed_image = torch.tensor(\n",
        "        perturb(\n",
        "            image=test_ref_data_h0[0][idx].numpy(),\n",
        "        )['image']\n",
        "    )\n",
        "\n",
        "    perturbed_images.append(perturbed_image)\n",
        "\n",
        "perturbed_images = torch.stack(perturbed_images)"
      ]
    },
    {
      "cell_type": "code",
      "execution_count": null,
      "metadata": {
        "colab": {
          "base_uri": "https://localhost:8080/",
          "height": 283
        },
        "id": "F-Y1w6TgsHp3",
        "outputId": "861b294c-09a1-4ec7-9123-7167300a908c"
      },
      "outputs": [
        {
          "data": {
            "text/plain": [
              "<matplotlib.image.AxesImage at 0x7f4491005390>"
            ]
          },
          "execution_count": 34,
          "metadata": {},
          "output_type": "execute_result"
        },
        {
          "data": {
            "image/png": "[encoded data removed]",
            "text/plain": [
              "<Figure size 432x288 with 1 Axes>"
            ]
          },
          "metadata": {
            "needs_background": "light"
          },
          "output_type": "display_data"
        }
      ],
      "source": [
        "plt.imshow(perturbed_images[0].permute(1, 2, 0))"
      ]
    },
    {
      "cell_type": "code",
      "execution_count": null,
      "metadata": {
        "colab": {
          "base_uri": "https://localhost:8080/",
          "height": 283
        },
        "id": "GArvCqeSsLJf",
        "outputId": "e4ffcb0d-8c82-4d2c-aaa1-221be6306ee4"
      },
      "outputs": [
        {
          "data": {
            "text/plain": [
              "<matplotlib.image.AxesImage at 0x7f448dad0ad0>"
            ]
          },
          "execution_count": 35,
          "metadata": {},
          "output_type": "execute_result"
        },
        {
          "data": {
            "image/png": "[encoded data removed]",
            "text/plain": [
              "<Figure size 432x288 with 1 Axes>"
            ]
          },
          "metadata": {
            "needs_background": "light"
          },
          "output_type": "display_data"
        }
      ],
      "source": [
        "plt.imshow(test_ref_data_h0[0][0].permute(1, 2, 0))"
      ]
    },
    {
      "cell_type": "markdown",
      "metadata": {
        "id": "ILMbKjAYvNML"
      },
      "source": [
        "Now let's try on the perturbed data"
      ]
    },
    {
      "cell_type": "code",
      "execution_count": null,
      "metadata": {
        "colab": {
          "base_uri": "https://localhost:8080/"
        },
        "id": "MFrHAQLnsP9F",
        "outputId": "0275d87e-7b61-4608-cd6f-54b007eebf3b"
      },
      "outputs": [
        {
          "data": {
            "text/plain": [
              "{'data': {'is_drift': 1,\n",
              "  'distance': 0.11001944541931152,\n",
              "  'p_val': 0.0,\n",
              "  'threshold': 0.05,\n",
              "  'distance_threshold': array(0.00444746, dtype=float32)},\n",
              " 'meta': {'name': 'MMDDriftTorch',\n",
              "  'online': False,\n",
              "  'data_type': None,\n",
              "  'version': '0.10.4',\n",
              "  'detector_type': 'drift',\n",
              "  'backend': 'pytorch'}}"
            ]
          },
          "execution_count": 36,
          "metadata": {},
          "output_type": "execute_result"
        }
      ],
      "source": [
        "cd.predict(perturbed_images[:100])"
      ]
    },
    {
      "cell_type": "markdown",
      "metadata": {
        "id": "i77B-evdlrbU"
      },
      "source": [
        "## LSDD Drift (Least-Squares Density Difference)"
      ]
    },
    {
      "cell_type": "code",
      "execution_count": null,
      "metadata": {
        "id": "VtadsNbWlfJ1"
      },
      "outputs": [],
      "source": [
        "from alibi_detect.cd import LSDDDrift"
      ]
    },
    {
      "cell_type": "code",
      "execution_count": null,
      "metadata": {
        "id": "PMsoD4UNsVBF"
      },
      "outputs": [],
      "source": [
        "cd = LSDDDrift(test_ref_data[0], backend='pytorch', p_val=.05, preprocess_fn=preprocess_fn)"
      ]
    },
    {
      "cell_type": "code",
      "execution_count": null,
      "metadata": {
        "colab": {
          "base_uri": "https://localhost:8080/"
        },
        "id": "ZotYel1Zll17",
        "outputId": "843dd15e-d385-40e5-f695-b20b796db48a"
      },
      "outputs": [
        {
          "data": {
            "text/plain": [
              "{'data': {'is_drift': 1,\n",
              "  'distance': 0.3328023850917816,\n",
              "  'p_val': 0.0,\n",
              "  'threshold': 0.05,\n",
              "  'distance_threshold': array(0.03324323, dtype=float32)},\n",
              " 'meta': {'name': 'LSDDDriftTorch',\n",
              "  'online': False,\n",
              "  'data_type': None,\n",
              "  'version': '0.10.4',\n",
              "  'detector_type': 'drift',\n",
              "  'backend': 'pytorch'}}"
            ]
          },
          "execution_count": 39,
          "metadata": {},
          "output_type": "execute_result"
        }
      ],
      "source": [
        "cd.predict(perturbed_images[:100])"
      ]
    },
    {
      "cell_type": "markdown",
      "metadata": {
        "id": "BwPRHMQhLNxP"
      },
      "source": [
        "## Kernel MMD (Torch Drift)"
      ]
    },
    {
      "cell_type": "code",
      "execution_count": null,
      "metadata": {
        "id": "l23Qd-sjwoPy"
      },
      "outputs": [],
      "source": [
        "import torchdrift\n",
        "import sklearn"
      ]
    },
    {
      "cell_type": "markdown",
      "metadata": {
        "id": "xpSO-0SM3zAp"
      },
      "source": [
        "Sometimes you are not allowed to make changes in the model, so here we can use a resnet model trained on imagenet !"
      ]
    },
    {
      "cell_type": "code",
      "execution_count": null,
      "metadata": {
        "colab": {
          "base_uri": "https://localhost:8080/",
          "height": 156,
          "referenced_widgets": [
            "cfe417040f2c41e1a8fa4ecc50a51064",
            "d6d7d30f88f94be3bb6d762f80fb55b0",
            "c83ad95841e749fbb02f47ff56dd9b1a",
            "887c298aa6c74eb183fe8dca7ad7f1b1",
            "aa5e8f212ad24072a9036614cb4024fc",
            "3f8c21a917504a85b9295d5567489080",
            "d5e1742d031e4ff3b02f9b43701032e1",
            "4d4c8cd2420d4f9982d5f9087fc737e4",
            "2108eb665758492f95e1d0cb1cd7aa41",
            "1f9d17cb13584d5e8e59cd67f90ffcda",
            "a8d47791f8aa4b86aca815e1e5ba7e0b"
          ]
        },
        "id": "FPels6ktLO8I",
        "outputId": "713c5dce-786c-4728-8b90-47c5beecbd3f"
      },
      "outputs": [
        {
          "name": "stderr",
          "output_type": "stream",
          "text": [
            "/usr/local/lib/python3.7/dist-packages/torchvision/models/_utils.py:209: UserWarning: The parameter 'pretrained' is deprecated since 0.13 and will be removed in 0.15, please use 'weights' instead.\n",
            "  f\"The parameter '{pretrained_param}' is deprecated since 0.13 and will be removed in 0.15, \"\n",
            "/usr/local/lib/python3.7/dist-packages/torchvision/models/_utils.py:223: UserWarning: Arguments other than a weight enum or `None` for 'weights' are deprecated since 0.13 and will be removed in 0.15. The current behavior is equivalent to passing `weights=ResNet18_Weights.IMAGENET1K_V1`. You can also use `weights=ResNet18_Weights.DEFAULT` to get the most up-to-date weights.\n",
            "  warnings.warn(msg)\n",
            "Downloading: \"https://download.pytorch.org/models/resnet18-f37072fd.pth\" to /root/.cache/torch/hub/checkpoints/resnet18-f37072fd.pth\n"
          ]
        },
        {
          "data": {
            "application/vnd.jupyter.widget-view+json": {
              "model_id": "cfe417040f2c41e1a8fa4ecc50a51064",
              "version_major": 2,
              "version_minor": 0
            },
            "text/plain": [
              "  0%|          | 0.00/44.7M [00:00<?, ?B/s]"
            ]
          },
          "metadata": {},
          "output_type": "display_data"
        }
      ],
      "source": [
        "feature_extractor = torchvision.models.resnet18(pretrained=True)\n",
        "feature_extractor.fc = torch.nn.Identity()\n",
        "\n",
        "feature_extractor = feature_extractor.to(device)"
      ]
    },
    {
      "cell_type": "code",
      "execution_count": null,
      "metadata": {
        "id": "iGOqnoTQwb5Y"
      },
      "outputs": [],
      "source": [
        "drift_detector = torchdrift.detectors.KernelMMDDriftDetector()"
      ]
    },
    {
      "cell_type": "code",
      "execution_count": null,
      "metadata": {
        "colab": {
          "base_uri": "https://localhost:8080/"
        },
        "id": "4aKVvJYlwvvZ",
        "outputId": "294b6024-973d-4087-9005-1b562e83f2bd"
      },
      "outputs": [
        {
          "name": "stdout",
          "output_type": "stream",
          "text": [
            "Files already downloaded and verified\n"
          ]
        }
      ],
      "source": [
        "cifar10_train_ds = CIFAR10(\".\", train=False, download=True, transform=test_transforms)"
      ]
    },
    {
      "cell_type": "code",
      "execution_count": null,
      "metadata": {
        "id": "_Evc2NfawvvZ"
      },
      "outputs": [],
      "source": [
        "cifar10_train_dl = DataLoader(cifar10_train_ds, batch_size=128, shuffle=False)"
      ]
    },
    {
      "cell_type": "code",
      "execution_count": null,
      "metadata": {
        "colab": {
          "base_uri": "https://localhost:8080/"
        },
        "id": "5WsueLs_wmHT",
        "outputId": "42b48573-3107-45d7-e3f7-a3bc24ad5440"
      },
      "outputs": [
        {
          "name": "stderr",
          "output_type": "stream",
          "text": [
            "100%|██████████| 79/79 [00:01<00:00, 54.01it/s]\n"
          ]
        }
      ],
      "source": [
        "torchdrift.utils.fit(cifar10_train_dl, feature_extractor, drift_detector)"
      ]
    },
    {
      "cell_type": "code",
      "execution_count": null,
      "metadata": {
        "id": "-eH9ev44w4hU"
      },
      "outputs": [],
      "source": [
        "drift_detection_model = torch.nn.Sequential(\n",
        "    feature_extractor,\n",
        "    drift_detector\n",
        ").to(device)"
      ]
    },
    {
      "cell_type": "code",
      "execution_count": null,
      "metadata": {
        "colab": {
          "base_uri": "https://localhost:8080/"
        },
        "id": "qQ9j2FaDxBEF",
        "outputId": "f5759cae-d775-4db7-fb5b-0ffd852c2518"
      },
      "outputs": [
        {
          "data": {
            "text/plain": [
              "torch.Size([100, 3, 32, 32])"
            ]
          },
          "execution_count": 56,
          "metadata": {},
          "output_type": "execute_result"
        }
      ],
      "source": [
        "perturbed_images.shape"
      ]
    },
    {
      "cell_type": "markdown",
      "metadata": {
        "id": "qMDG2_1n4Xfp"
      },
      "source": [
        "Perturbed Data"
      ]
    },
    {
      "cell_type": "code",
      "execution_count": null,
      "metadata": {
        "colab": {
          "base_uri": "https://localhost:8080/"
        },
        "id": "vCNWDKJdw6-1",
        "outputId": "e26eac25-1cd7-41b6-8210-58e6c6d492bd"
      },
      "outputs": [
        {
          "data": {
            "text/plain": [
              "(tensor(0.1963, device='cuda:0'), tensor(0.0350, device='cuda:0'))"
            ]
          },
          "execution_count": 58,
          "metadata": {},
          "output_type": "execute_result"
        }
      ],
      "source": [
        "with torch.no_grad():\n",
        "    # features = feature_extractor(perturbed_images.to(device))\n",
        "    # score = drift_detector(features)\n",
        "    score = drift_detection_model(perturbed_images.to(device))\n",
        "    # p_val = drift_detector.compute_p_value(features)\n",
        "score, p_val"
      ]
    },
    {
      "cell_type": "markdown",
      "metadata": {
        "id": "bmF03chP4ZsS"
      },
      "source": [
        "P-Value is 0 ! that means a drift !"
      ]
    },
    {
      "cell_type": "code",
      "execution_count": null,
      "metadata": {
        "colab": {
          "base_uri": "https://localhost:8080/",
          "height": 281
        },
        "id": "r1TAML6OxE4F",
        "outputId": "fc1f007c-7149-439f-a5b5-d05450af9a9f"
      },
      "outputs": [
        {
          "data": {
            "image/png": "[encoded data removed]",
            "text/plain": [
              "<Figure size 432x288 with 1 Axes>"
            ]
          },
          "metadata": {
            "needs_background": "light"
          },
          "output_type": "display_data"
        }
      ],
      "source": [
        "N_base = drift_detector.base_outputs.size(0)\n",
        "mapper = sklearn.manifold.Isomap(n_components=2)\n",
        "base_embedded = mapper.fit_transform(drift_detector.base_outputs.cpu())\n",
        "features_embedded = mapper.transform(features.cpu().detach().numpy())\n",
        "plt.scatter(base_embedded[:, 0], base_embedded[:, 1], s=2, c='r')\n",
        "plt.scatter(features_embedded[:, 0], features_embedded[:, 1], s=4)\n",
        "plt.title(f'score {score:.2f} p-value {p_val:.2f}')\n",
        "plt.show()"
      ]
    },
    {
      "cell_type": "markdown",
      "metadata": {
        "id": "v5eyAqtn4Vvy"
      },
      "source": [
        "Reference Data"
      ]
    },
    {
      "cell_type": "code",
      "execution_count": null,
      "metadata": {
        "colab": {
          "base_uri": "https://localhost:8080/"
        },
        "id": "du4YI_WBx0sS",
        "outputId": "cf692f59-e01a-49e2-b24d-5365cd420680"
      },
      "outputs": [
        {
          "data": {
            "text/plain": [
              "(tensor(0.0123, device='cuda:0'), tensor(0.0350, device='cuda:0'))"
            ]
          },
          "execution_count": 51,
          "metadata": {},
          "output_type": "execute_result"
        }
      ],
      "source": [
        "with torch.no_grad():\n",
        "    features = feature_extractor(test_ref_data_h0[0][:100].to(device))\n",
        "    score = drift_detector(features)\n",
        "    p_val = drift_detector.compute_p_value(features)\n",
        "score, p_val"
      ]
    },
    {
      "cell_type": "markdown",
      "metadata": {
        "id": "YQutbb4i4dcW"
      },
      "source": [
        "P-Value is 0.03, not a drift"
      ]
    },
    {
      "cell_type": "code",
      "execution_count": null,
      "metadata": {
        "colab": {
          "base_uri": "https://localhost:8080/",
          "height": 281
        },
        "id": "HlkrPIjcy3Qt",
        "outputId": "a3476ed2-294b-4130-a0aa-67b3367e2319"
      },
      "outputs": [
        {
          "data": {
            "image/png": "[encoded data removed]",
            "text/plain": [
              "<Figure size 432x288 with 1 Axes>"
            ]
          },
          "metadata": {
            "needs_background": "light"
          },
          "output_type": "display_data"
        }
      ],
      "source": [
        "N_base = drift_detector.base_outputs.size(0)\n",
        "mapper = sklearn.manifold.Isomap(n_components=2)\n",
        "base_embedded = mapper.fit_transform(drift_detector.base_outputs.cpu())\n",
        "features_embedded = mapper.transform(features.cpu().detach().numpy())\n",
        "plt.scatter(base_embedded[:, 0], base_embedded[:, 1], s=2, c='r')\n",
        "plt.scatter(features_embedded[:, 0], features_embedded[:, 1], s=4)\n",
        "plt.title(f'score {score:.2f} p-value {p_val:.2f}')\n",
        "plt.show()"
      ]
    },
    {
      "cell_type": "code",
      "execution_count": null,
      "metadata": {
        "id": "TppW6VwLy-kA"
      },
      "outputs": [],
      "source": []
    }
  ],
  "metadata": {
    "accelerator": "GPU",
    "colab": {
      "provenance": []
    },
    "gpuClass": "standard",
    "kernelspec": {
      "display_name": "Python 3.10.6 ('mlo')",
      "language": "python",
      "name": "python3"
    },
    "language_info": {
      "codemirror_mode": {
        "name": "ipython",
        "version": 3
      },
      "file_extension": ".py",
      "mimetype": "text/x-python",
      "name": "python",
      "nbconvert_exporter": "python",
      "pygments_lexer": "ipython3",
      "version": "3.10.6"
    },
    "vscode": {
      "interpreter": {
        "hash": "166496c61138a32d9d6f298a779727d389a647554eedcb433b9a55285638df27"
      }
    },
    "widgets": {
      "application/vnd.jupyter.widget-state+json": {
        "001d6e7a24bf45a2ac16db28561dd7a2": {
          "model_module": "@jupyter-widgets/controls",
          "model_module_version": "1.5.0",
          "model_name": "HTMLModel",
          "state": {
            "_dom_classes": [],
            "_model_module": "@jupyter-widgets/controls",
            "_model_module_version": "1.5.0",
            "_model_name": "HTMLModel",
            "_view_count": null,
            "_view_module": "@jupyter-widgets/controls",
            "_view_module_version": "1.5.0",
            "_view_name": "HTMLView",
            "description": "",
            "description_tooltip": null,
            "layout": "IPY_MODEL_0d39300c25ba486fb0e3a729d08fb371",
            "placeholder": "​",
            "style": "IPY_MODEL_3bd1ba9375d746049d50c0f4a78f424f",
            "value": " 170498071/170498071 [00:06&lt;00:00, 31819235.94it/s]"
          }
        },
        "00fa96d253634096b9d1da338c1db588": {
          "model_module": "@jupyter-widgets/controls",
          "model_module_version": "1.5.0",
          "model_name": "DescriptionStyleModel",
          "state": {
            "_model_module": "@jupyter-widgets/controls",
            "_model_module_version": "1.5.0",
            "_model_name": "DescriptionStyleModel",
            "_view_count": null,
            "_view_module": "@jupyter-widgets/base",
            "_view_module_version": "1.2.0",
            "_view_name": "StyleView",
            "description_width": ""
          }
        },
        "0589600ee2fd449da028abb961527185": {
          "model_module": "@jupyter-widgets/controls",
          "model_module_version": "1.5.0",
          "model_name": "FloatProgressModel",
          "state": {
            "_dom_classes": [],
            "_model_module": "@jupyter-widgets/controls",
            "_model_module_version": "1.5.0",
            "_model_name": "FloatProgressModel",
            "_view_count": null,
            "_view_module": "@jupyter-widgets/controls",
            "_view_module_version": "1.5.0",
            "_view_name": "ProgressView",
            "bar_style": "success",
            "description": "",
            "description_tooltip": null,
            "layout": "IPY_MODEL_11585a767573408ead07e4c2e76db252",
            "max": 170498071,
            "min": 0,
            "orientation": "horizontal",
            "style": "IPY_MODEL_f75c4181d30f406095a99fc29ebb0dcf",
            "value": 170498071
          }
        },
        "0d39300c25ba486fb0e3a729d08fb371": {
          "model_module": "@jupyter-widgets/base",
          "model_module_version": "1.2.0",
          "model_name": "LayoutModel",
          "state": {
            "_model_module": "@jupyter-widgets/base",
            "_model_module_version": "1.2.0",
            "_model_name": "LayoutModel",
            "_view_count": null,
            "_view_module": "@jupyter-widgets/base",
            "_view_module_version": "1.2.0",
            "_view_name": "LayoutView",
            "align_content": null,
            "align_items": null,
            "align_self": null,
            "border": null,
            "bottom": null,
            "display": null,
            "flex": null,
            "flex_flow": null,
            "grid_area": null,
            "grid_auto_columns": null,
            "grid_auto_flow": null,
            "grid_auto_rows": null,
            "grid_column": null,
            "grid_gap": null,
            "grid_row": null,
            "grid_template_areas": null,
            "grid_template_columns": null,
            "grid_template_rows": null,
            "height": null,
            "justify_content": null,
            "justify_items": null,
            "left": null,
            "margin": null,
            "max_height": null,
            "max_width": null,
            "min_height": null,
            "min_width": null,
            "object_fit": null,
            "object_position": null,
            "order": null,
            "overflow": null,
            "overflow_x": null,
            "overflow_y": null,
            "padding": null,
            "right": null,
            "top": null,
            "visibility": null,
            "width": null
          }
        },
        "11585a767573408ead07e4c2e76db252": {
          "model_module": "@jupyter-widgets/base",
          "model_module_version": "1.2.0",
          "model_name": "LayoutModel",
          "state": {
            "_model_module": "@jupyter-widgets/base",
            "_model_module_version": "1.2.0",
            "_model_name": "LayoutModel",
            "_view_count": null,
            "_view_module": "@jupyter-widgets/base",
            "_view_module_version": "1.2.0",
            "_view_name": "LayoutView",
            "align_content": null,
            "align_items": null,
            "align_self": null,
            "border": null,
            "bottom": null,
            "display": null,
            "flex": null,
            "flex_flow": null,
            "grid_area": null,
            "grid_auto_columns": null,
            "grid_auto_flow": null,
            "grid_auto_rows": null,
            "grid_column": null,
            "grid_gap": null,
            "grid_row": null,
            "grid_template_areas": null,
            "grid_template_columns": null,
            "grid_template_rows": null,
            "height": null,
            "justify_content": null,
            "justify_items": null,
            "left": null,
            "margin": null,
            "max_height": null,
            "max_width": null,
            "min_height": null,
            "min_width": null,
            "object_fit": null,
            "object_position": null,
            "order": null,
            "overflow": null,
            "overflow_x": null,
            "overflow_y": null,
            "padding": null,
            "right": null,
            "top": null,
            "visibility": null,
            "width": null
          }
        },
        "1f9d17cb13584d5e8e59cd67f90ffcda": {
          "model_module": "@jupyter-widgets/base",
          "model_module_version": "1.2.0",
          "model_name": "LayoutModel",
          "state": {
            "_model_module": "@jupyter-widgets/base",
            "_model_module_version": "1.2.0",
            "_model_name": "LayoutModel",
            "_view_count": null,
            "_view_module": "@jupyter-widgets/base",
            "_view_module_version": "1.2.0",
            "_view_name": "LayoutView",
            "align_content": null,
            "align_items": null,
            "align_self": null,
            "border": null,
            "bottom": null,
            "display": null,
            "flex": null,
            "flex_flow": null,
            "grid_area": null,
            "grid_auto_columns": null,
            "grid_auto_flow": null,
            "grid_auto_rows": null,
            "grid_column": null,
            "grid_gap": null,
            "grid_row": null,
            "grid_template_areas": null,
            "grid_template_columns": null,
            "grid_template_rows": null,
            "height": null,
            "justify_content": null,
            "justify_items": null,
            "left": null,
            "margin": null,
            "max_height": null,
            "max_width": null,
            "min_height": null,
            "min_width": null,
            "object_fit": null,
            "object_position": null,
            "order": null,
            "overflow": null,
            "overflow_x": null,
            "overflow_y": null,
            "padding": null,
            "right": null,
            "top": null,
            "visibility": null,
            "width": null
          }
        },
        "2108eb665758492f95e1d0cb1cd7aa41": {
          "model_module": "@jupyter-widgets/controls",
          "model_module_version": "1.5.0",
          "model_name": "ProgressStyleModel",
          "state": {
            "_model_module": "@jupyter-widgets/controls",
            "_model_module_version": "1.5.0",
            "_model_name": "ProgressStyleModel",
            "_view_count": null,
            "_view_module": "@jupyter-widgets/base",
            "_view_module_version": "1.2.0",
            "_view_name": "StyleView",
            "bar_color": null,
            "description_width": ""
          }
        },
        "274c563b827546f4aa587136406260b7": {
          "model_module": "@jupyter-widgets/base",
          "model_module_version": "1.2.0",
          "model_name": "LayoutModel",
          "state": {
            "_model_module": "@jupyter-widgets/base",
            "_model_module_version": "1.2.0",
            "_model_name": "LayoutModel",
            "_view_count": null,
            "_view_module": "@jupyter-widgets/base",
            "_view_module_version": "1.2.0",
            "_view_name": "LayoutView",
            "align_content": null,
            "align_items": null,
            "align_self": null,
            "border": null,
            "bottom": null,
            "display": null,
            "flex": null,
            "flex_flow": null,
            "grid_area": null,
            "grid_auto_columns": null,
            "grid_auto_flow": null,
            "grid_auto_rows": null,
            "grid_column": null,
            "grid_gap": null,
            "grid_row": null,
            "grid_template_areas": null,
            "grid_template_columns": null,
            "grid_template_rows": null,
            "height": null,
            "justify_content": null,
            "justify_items": null,
            "left": null,
            "margin": null,
            "max_height": null,
            "max_width": null,
            "min_height": null,
            "min_width": null,
            "object_fit": null,
            "object_position": null,
            "order": null,
            "overflow": null,
            "overflow_x": null,
            "overflow_y": null,
            "padding": null,
            "right": null,
            "top": null,
            "visibility": null,
            "width": null
          }
        },
        "3bd1ba9375d746049d50c0f4a78f424f": {
          "model_module": "@jupyter-widgets/controls",
          "model_module_version": "1.5.0",
          "model_name": "DescriptionStyleModel",
          "state": {
            "_model_module": "@jupyter-widgets/controls",
            "_model_module_version": "1.5.0",
            "_model_name": "DescriptionStyleModel",
            "_view_count": null,
            "_view_module": "@jupyter-widgets/base",
            "_view_module_version": "1.2.0",
            "_view_name": "StyleView",
            "description_width": ""
          }
        },
        "3f8c21a917504a85b9295d5567489080": {
          "model_module": "@jupyter-widgets/base",
          "model_module_version": "1.2.0",
          "model_name": "LayoutModel",
          "state": {
            "_model_module": "@jupyter-widgets/base",
            "_model_module_version": "1.2.0",
            "_model_name": "LayoutModel",
            "_view_count": null,
            "_view_module": "@jupyter-widgets/base",
            "_view_module_version": "1.2.0",
            "_view_name": "LayoutView",
            "align_content": null,
            "align_items": null,
            "align_self": null,
            "border": null,
            "bottom": null,
            "display": null,
            "flex": null,
            "flex_flow": null,
            "grid_area": null,
            "grid_auto_columns": null,
            "grid_auto_flow": null,
            "grid_auto_rows": null,
            "grid_column": null,
            "grid_gap": null,
            "grid_row": null,
            "grid_template_areas": null,
            "grid_template_columns": null,
            "grid_template_rows": null,
            "height": null,
            "justify_content": null,
            "justify_items": null,
            "left": null,
            "margin": null,
            "max_height": null,
            "max_width": null,
            "min_height": null,
            "min_width": null,
            "object_fit": null,
            "object_position": null,
            "order": null,
            "overflow": null,
            "overflow_x": null,
            "overflow_y": null,
            "padding": null,
            "right": null,
            "top": null,
            "visibility": null,
            "width": null
          }
        },
        "47d052f2b9cf427d84b9e58e3efa093d": {
          "model_module": "@jupyter-widgets/controls",
          "model_module_version": "1.5.0",
          "model_name": "HTMLModel",
          "state": {
            "_dom_classes": [],
            "_model_module": "@jupyter-widgets/controls",
            "_model_module_version": "1.5.0",
            "_model_name": "HTMLModel",
            "_view_count": null,
            "_view_module": "@jupyter-widgets/controls",
            "_view_module_version": "1.5.0",
            "_view_name": "HTMLView",
            "description": "",
            "description_tooltip": null,
            "layout": "IPY_MODEL_5fbec65de205434b943f3a42bc010df5",
            "placeholder": "​",
            "style": "IPY_MODEL_dd0adb07e41249d7aeabde675728643f",
            "value": " 170498071/170498071 [00:05&lt;00:00, 32404042.22it/s]"
          }
        },
        "4bb37c6c47b945428aba0c25deb7c119": {
          "model_module": "@jupyter-widgets/base",
          "model_module_version": "1.2.0",
          "model_name": "LayoutModel",
          "state": {
            "_model_module": "@jupyter-widgets/base",
            "_model_module_version": "1.2.0",
            "_model_name": "LayoutModel",
            "_view_count": null,
            "_view_module": "@jupyter-widgets/base",
            "_view_module_version": "1.2.0",
            "_view_name": "LayoutView",
            "align_content": null,
            "align_items": null,
            "align_self": null,
            "border": null,
            "bottom": null,
            "display": null,
            "flex": null,
            "flex_flow": null,
            "grid_area": null,
            "grid_auto_columns": null,
            "grid_auto_flow": null,
            "grid_auto_rows": null,
            "grid_column": null,
            "grid_gap": null,
            "grid_row": null,
            "grid_template_areas": null,
            "grid_template_columns": null,
            "grid_template_rows": null,
            "height": null,
            "justify_content": null,
            "justify_items": null,
            "left": null,
            "margin": null,
            "max_height": null,
            "max_width": null,
            "min_height": null,
            "min_width": null,
            "object_fit": null,
            "object_position": null,
            "order": null,
            "overflow": null,
            "overflow_x": null,
            "overflow_y": null,
            "padding": null,
            "right": null,
            "top": null,
            "visibility": null,
            "width": null
          }
        },
        "4d4c8cd2420d4f9982d5f9087fc737e4": {
          "model_module": "@jupyter-widgets/base",
          "model_module_version": "1.2.0",
          "model_name": "LayoutModel",
          "state": {
            "_model_module": "@jupyter-widgets/base",
            "_model_module_version": "1.2.0",
            "_model_name": "LayoutModel",
            "_view_count": null,
            "_view_module": "@jupyter-widgets/base",
            "_view_module_version": "1.2.0",
            "_view_name": "LayoutView",
            "align_content": null,
            "align_items": null,
            "align_self": null,
            "border": null,
            "bottom": null,
            "display": null,
            "flex": null,
            "flex_flow": null,
            "grid_area": null,
            "grid_auto_columns": null,
            "grid_auto_flow": null,
            "grid_auto_rows": null,
            "grid_column": null,
            "grid_gap": null,
            "grid_row": null,
            "grid_template_areas": null,
            "grid_template_columns": null,
            "grid_template_rows": null,
            "height": null,
            "justify_content": null,
            "justify_items": null,
            "left": null,
            "margin": null,
            "max_height": null,
            "max_width": null,
            "min_height": null,
            "min_width": null,
            "object_fit": null,
            "object_position": null,
            "order": null,
            "overflow": null,
            "overflow_x": null,
            "overflow_y": null,
            "padding": null,
            "right": null,
            "top": null,
            "visibility": null,
            "width": null
          }
        },
        "5307bf8b3a0a48128cbb938144fd0a1b": {
          "model_module": "@jupyter-widgets/controls",
          "model_module_version": "1.5.0",
          "model_name": "FloatProgressModel",
          "state": {
            "_dom_classes": [],
            "_model_module": "@jupyter-widgets/controls",
            "_model_module_version": "1.5.0",
            "_model_name": "FloatProgressModel",
            "_view_count": null,
            "_view_module": "@jupyter-widgets/controls",
            "_view_module_version": "1.5.0",
            "_view_name": "ProgressView",
            "bar_style": "success",
            "description": "",
            "description_tooltip": null,
            "layout": "IPY_MODEL_59bb4b3e47474a6680ba9e4a643939bd",
            "max": 170498071,
            "min": 0,
            "orientation": "horizontal",
            "style": "IPY_MODEL_b7244f4fbe8b4c33b3a8634af3336510",
            "value": 170498071
          }
        },
        "5576382155d94c6f927a97c962c1705f": {
          "model_module": "@jupyter-widgets/controls",
          "model_module_version": "1.5.0",
          "model_name": "HTMLModel",
          "state": {
            "_dom_classes": [],
            "_model_module": "@jupyter-widgets/controls",
            "_model_module_version": "1.5.0",
            "_model_name": "HTMLModel",
            "_view_count": null,
            "_view_module": "@jupyter-widgets/controls",
            "_view_module_version": "1.5.0",
            "_view_name": "HTMLView",
            "description": "",
            "description_tooltip": null,
            "layout": "IPY_MODEL_4bb37c6c47b945428aba0c25deb7c119",
            "placeholder": "​",
            "style": "IPY_MODEL_56be905922b547a7912def1939b6125e",
            "value": "100%"
          }
        },
        "56be905922b547a7912def1939b6125e": {
          "model_module": "@jupyter-widgets/controls",
          "model_module_version": "1.5.0",
          "model_name": "DescriptionStyleModel",
          "state": {
            "_model_module": "@jupyter-widgets/controls",
            "_model_module_version": "1.5.0",
            "_model_name": "DescriptionStyleModel",
            "_view_count": null,
            "_view_module": "@jupyter-widgets/base",
            "_view_module_version": "1.2.0",
            "_view_name": "StyleView",
            "description_width": ""
          }
        },
        "59bb4b3e47474a6680ba9e4a643939bd": {
          "model_module": "@jupyter-widgets/base",
          "model_module_version": "1.2.0",
          "model_name": "LayoutModel",
          "state": {
            "_model_module": "@jupyter-widgets/base",
            "_model_module_version": "1.2.0",
            "_model_name": "LayoutModel",
            "_view_count": null,
            "_view_module": "@jupyter-widgets/base",
            "_view_module_version": "1.2.0",
            "_view_name": "LayoutView",
            "align_content": null,
            "align_items": null,
            "align_self": null,
            "border": null,
            "bottom": null,
            "display": null,
            "flex": null,
            "flex_flow": null,
            "grid_area": null,
            "grid_auto_columns": null,
            "grid_auto_flow": null,
            "grid_auto_rows": null,
            "grid_column": null,
            "grid_gap": null,
            "grid_row": null,
            "grid_template_areas": null,
            "grid_template_columns": null,
            "grid_template_rows": null,
            "height": null,
            "justify_content": null,
            "justify_items": null,
            "left": null,
            "margin": null,
            "max_height": null,
            "max_width": null,
            "min_height": null,
            "min_width": null,
            "object_fit": null,
            "object_position": null,
            "order": null,
            "overflow": null,
            "overflow_x": null,
            "overflow_y": null,
            "padding": null,
            "right": null,
            "top": null,
            "visibility": null,
            "width": null
          }
        },
        "5a32f8d3393b4899b21eb5b1fe8c3d02": {
          "model_module": "@jupyter-widgets/controls",
          "model_module_version": "1.5.0",
          "model_name": "HTMLModel",
          "state": {
            "_dom_classes": [],
            "_model_module": "@jupyter-widgets/controls",
            "_model_module_version": "1.5.0",
            "_model_name": "HTMLModel",
            "_view_count": null,
            "_view_module": "@jupyter-widgets/controls",
            "_view_module_version": "1.5.0",
            "_view_name": "HTMLView",
            "description": "",
            "description_tooltip": null,
            "layout": "IPY_MODEL_274c563b827546f4aa587136406260b7",
            "placeholder": "​",
            "style": "IPY_MODEL_00fa96d253634096b9d1da338c1db588",
            "value": "100%"
          }
        },
        "5fbec65de205434b943f3a42bc010df5": {
          "model_module": "@jupyter-widgets/base",
          "model_module_version": "1.2.0",
          "model_name": "LayoutModel",
          "state": {
            "_model_module": "@jupyter-widgets/base",
            "_model_module_version": "1.2.0",
            "_model_name": "LayoutModel",
            "_view_count": null,
            "_view_module": "@jupyter-widgets/base",
            "_view_module_version": "1.2.0",
            "_view_name": "LayoutView",
            "align_content": null,
            "align_items": null,
            "align_self": null,
            "border": null,
            "bottom": null,
            "display": null,
            "flex": null,
            "flex_flow": null,
            "grid_area": null,
            "grid_auto_columns": null,
            "grid_auto_flow": null,
            "grid_auto_rows": null,
            "grid_column": null,
            "grid_gap": null,
            "grid_row": null,
            "grid_template_areas": null,
            "grid_template_columns": null,
            "grid_template_rows": null,
            "height": null,
            "justify_content": null,
            "justify_items": null,
            "left": null,
            "margin": null,
            "max_height": null,
            "max_width": null,
            "min_height": null,
            "min_width": null,
            "object_fit": null,
            "object_position": null,
            "order": null,
            "overflow": null,
            "overflow_x": null,
            "overflow_y": null,
            "padding": null,
            "right": null,
            "top": null,
            "visibility": null,
            "width": null
          }
        },
        "7809f409dc2543b6a682cd573dc1ff07": {
          "model_module": "@jupyter-widgets/controls",
          "model_module_version": "1.5.0",
          "model_name": "HBoxModel",
          "state": {
            "_dom_classes": [],
            "_model_module": "@jupyter-widgets/controls",
            "_model_module_version": "1.5.0",
            "_model_name": "HBoxModel",
            "_view_count": null,
            "_view_module": "@jupyter-widgets/controls",
            "_view_module_version": "1.5.0",
            "_view_name": "HBoxView",
            "box_style": "",
            "children": [
              "IPY_MODEL_5576382155d94c6f927a97c962c1705f",
              "IPY_MODEL_5307bf8b3a0a48128cbb938144fd0a1b",
              "IPY_MODEL_001d6e7a24bf45a2ac16db28561dd7a2"
            ],
            "layout": "IPY_MODEL_b49bf038f39b4ccba509ba242337cfab"
          }
        },
        "887c298aa6c74eb183fe8dca7ad7f1b1": {
          "model_module": "@jupyter-widgets/controls",
          "model_module_version": "1.5.0",
          "model_name": "HTMLModel",
          "state": {
            "_dom_classes": [],
            "_model_module": "@jupyter-widgets/controls",
            "_model_module_version": "1.5.0",
            "_model_name": "HTMLModel",
            "_view_count": null,
            "_view_module": "@jupyter-widgets/controls",
            "_view_module_version": "1.5.0",
            "_view_name": "HTMLView",
            "description": "",
            "description_tooltip": null,
            "layout": "IPY_MODEL_1f9d17cb13584d5e8e59cd67f90ffcda",
            "placeholder": "​",
            "style": "IPY_MODEL_a8d47791f8aa4b86aca815e1e5ba7e0b",
            "value": " 44.7M/44.7M [00:00&lt;00:00, 156MB/s]"
          }
        },
        "a8d47791f8aa4b86aca815e1e5ba7e0b": {
          "model_module": "@jupyter-widgets/controls",
          "model_module_version": "1.5.0",
          "model_name": "DescriptionStyleModel",
          "state": {
            "_model_module": "@jupyter-widgets/controls",
            "_model_module_version": "1.5.0",
            "_model_name": "DescriptionStyleModel",
            "_view_count": null,
            "_view_module": "@jupyter-widgets/base",
            "_view_module_version": "1.2.0",
            "_view_name": "StyleView",
            "description_width": ""
          }
        },
        "a90bb571d9354f34b9da9295c29eaadb": {
          "model_module": "@jupyter-widgets/base",
          "model_module_version": "1.2.0",
          "model_name": "LayoutModel",
          "state": {
            "_model_module": "@jupyter-widgets/base",
            "_model_module_version": "1.2.0",
            "_model_name": "LayoutModel",
            "_view_count": null,
            "_view_module": "@jupyter-widgets/base",
            "_view_module_version": "1.2.0",
            "_view_name": "LayoutView",
            "align_content": null,
            "align_items": null,
            "align_self": null,
            "border": null,
            "bottom": null,
            "display": null,
            "flex": null,
            "flex_flow": null,
            "grid_area": null,
            "grid_auto_columns": null,
            "grid_auto_flow": null,
            "grid_auto_rows": null,
            "grid_column": null,
            "grid_gap": null,
            "grid_row": null,
            "grid_template_areas": null,
            "grid_template_columns": null,
            "grid_template_rows": null,
            "height": null,
            "justify_content": null,
            "justify_items": null,
            "left": null,
            "margin": null,
            "max_height": null,
            "max_width": null,
            "min_height": null,
            "min_width": null,
            "object_fit": null,
            "object_position": null,
            "order": null,
            "overflow": null,
            "overflow_x": null,
            "overflow_y": null,
            "padding": null,
            "right": null,
            "top": null,
            "visibility": null,
            "width": null
          }
        },
        "aa5e8f212ad24072a9036614cb4024fc": {
          "model_module": "@jupyter-widgets/base",
          "model_module_version": "1.2.0",
          "model_name": "LayoutModel",
          "state": {
            "_model_module": "@jupyter-widgets/base",
            "_model_module_version": "1.2.0",
            "_model_name": "LayoutModel",
            "_view_count": null,
            "_view_module": "@jupyter-widgets/base",
            "_view_module_version": "1.2.0",
            "_view_name": "LayoutView",
            "align_content": null,
            "align_items": null,
            "align_self": null,
            "border": null,
            "bottom": null,
            "display": null,
            "flex": null,
            "flex_flow": null,
            "grid_area": null,
            "grid_auto_columns": null,
            "grid_auto_flow": null,
            "grid_auto_rows": null,
            "grid_column": null,
            "grid_gap": null,
            "grid_row": null,
            "grid_template_areas": null,
            "grid_template_columns": null,
            "grid_template_rows": null,
            "height": null,
            "justify_content": null,
            "justify_items": null,
            "left": null,
            "margin": null,
            "max_height": null,
            "max_width": null,
            "min_height": null,
            "min_width": null,
            "object_fit": null,
            "object_position": null,
            "order": null,
            "overflow": null,
            "overflow_x": null,
            "overflow_y": null,
            "padding": null,
            "right": null,
            "top": null,
            "visibility": null,
            "width": null
          }
        },
        "b49bf038f39b4ccba509ba242337cfab": {
          "model_module": "@jupyter-widgets/base",
          "model_module_version": "1.2.0",
          "model_name": "LayoutModel",
          "state": {
            "_model_module": "@jupyter-widgets/base",
            "_model_module_version": "1.2.0",
            "_model_name": "LayoutModel",
            "_view_count": null,
            "_view_module": "@jupyter-widgets/base",
            "_view_module_version": "1.2.0",
            "_view_name": "LayoutView",
            "align_content": null,
            "align_items": null,
            "align_self": null,
            "border": null,
            "bottom": null,
            "display": null,
            "flex": null,
            "flex_flow": null,
            "grid_area": null,
            "grid_auto_columns": null,
            "grid_auto_flow": null,
            "grid_auto_rows": null,
            "grid_column": null,
            "grid_gap": null,
            "grid_row": null,
            "grid_template_areas": null,
            "grid_template_columns": null,
            "grid_template_rows": null,
            "height": null,
            "justify_content": null,
            "justify_items": null,
            "left": null,
            "margin": null,
            "max_height": null,
            "max_width": null,
            "min_height": null,
            "min_width": null,
            "object_fit": null,
            "object_position": null,
            "order": null,
            "overflow": null,
            "overflow_x": null,
            "overflow_y": null,
            "padding": null,
            "right": null,
            "top": null,
            "visibility": null,
            "width": null
          }
        },
        "b7244f4fbe8b4c33b3a8634af3336510": {
          "model_module": "@jupyter-widgets/controls",
          "model_module_version": "1.5.0",
          "model_name": "ProgressStyleModel",
          "state": {
            "_model_module": "@jupyter-widgets/controls",
            "_model_module_version": "1.5.0",
            "_model_name": "ProgressStyleModel",
            "_view_count": null,
            "_view_module": "@jupyter-widgets/base",
            "_view_module_version": "1.2.0",
            "_view_name": "StyleView",
            "bar_color": null,
            "description_width": ""
          }
        },
        "c83ad95841e749fbb02f47ff56dd9b1a": {
          "model_module": "@jupyter-widgets/controls",
          "model_module_version": "1.5.0",
          "model_name": "FloatProgressModel",
          "state": {
            "_dom_classes": [],
            "_model_module": "@jupyter-widgets/controls",
            "_model_module_version": "1.5.0",
            "_model_name": "FloatProgressModel",
            "_view_count": null,
            "_view_module": "@jupyter-widgets/controls",
            "_view_module_version": "1.5.0",
            "_view_name": "ProgressView",
            "bar_style": "success",
            "description": "",
            "description_tooltip": null,
            "layout": "IPY_MODEL_4d4c8cd2420d4f9982d5f9087fc737e4",
            "max": 46830571,
            "min": 0,
            "orientation": "horizontal",
            "style": "IPY_MODEL_2108eb665758492f95e1d0cb1cd7aa41",
            "value": 46830571
          }
        },
        "cfe417040f2c41e1a8fa4ecc50a51064": {
          "model_module": "@jupyter-widgets/controls",
          "model_module_version": "1.5.0",
          "model_name": "HBoxModel",
          "state": {
            "_dom_classes": [],
            "_model_module": "@jupyter-widgets/controls",
            "_model_module_version": "1.5.0",
            "_model_name": "HBoxModel",
            "_view_count": null,
            "_view_module": "@jupyter-widgets/controls",
            "_view_module_version": "1.5.0",
            "_view_name": "HBoxView",
            "box_style": "",
            "children": [
              "IPY_MODEL_d6d7d30f88f94be3bb6d762f80fb55b0",
              "IPY_MODEL_c83ad95841e749fbb02f47ff56dd9b1a",
              "IPY_MODEL_887c298aa6c74eb183fe8dca7ad7f1b1"
            ],
            "layout": "IPY_MODEL_aa5e8f212ad24072a9036614cb4024fc"
          }
        },
        "d2174e3dd71044c0b148aaa368a5014d": {
          "model_module": "@jupyter-widgets/controls",
          "model_module_version": "1.5.0",
          "model_name": "HBoxModel",
          "state": {
            "_dom_classes": [],
            "_model_module": "@jupyter-widgets/controls",
            "_model_module_version": "1.5.0",
            "_model_name": "HBoxModel",
            "_view_count": null,
            "_view_module": "@jupyter-widgets/controls",
            "_view_module_version": "1.5.0",
            "_view_name": "HBoxView",
            "box_style": "",
            "children": [
              "IPY_MODEL_5a32f8d3393b4899b21eb5b1fe8c3d02",
              "IPY_MODEL_0589600ee2fd449da028abb961527185",
              "IPY_MODEL_47d052f2b9cf427d84b9e58e3efa093d"
            ],
            "layout": "IPY_MODEL_a90bb571d9354f34b9da9295c29eaadb"
          }
        },
        "d5e1742d031e4ff3b02f9b43701032e1": {
          "model_module": "@jupyter-widgets/controls",
          "model_module_version": "1.5.0",
          "model_name": "DescriptionStyleModel",
          "state": {
            "_model_module": "@jupyter-widgets/controls",
            "_model_module_version": "1.5.0",
            "_model_name": "DescriptionStyleModel",
            "_view_count": null,
            "_view_module": "@jupyter-widgets/base",
            "_view_module_version": "1.2.0",
            "_view_name": "StyleView",
            "description_width": ""
          }
        },
        "d6d7d30f88f94be3bb6d762f80fb55b0": {
          "model_module": "@jupyter-widgets/controls",
          "model_module_version": "1.5.0",
          "model_name": "HTMLModel",
          "state": {
            "_dom_classes": [],
            "_model_module": "@jupyter-widgets/controls",
            "_model_module_version": "1.5.0",
            "_model_name": "HTMLModel",
            "_view_count": null,
            "_view_module": "@jupyter-widgets/controls",
            "_view_module_version": "1.5.0",
            "_view_name": "HTMLView",
            "description": "",
            "description_tooltip": null,
            "layout": "IPY_MODEL_3f8c21a917504a85b9295d5567489080",
            "placeholder": "​",
            "style": "IPY_MODEL_d5e1742d031e4ff3b02f9b43701032e1",
            "value": "100%"
          }
        },
        "dd0adb07e41249d7aeabde675728643f": {
          "model_module": "@jupyter-widgets/controls",
          "model_module_version": "1.5.0",
          "model_name": "DescriptionStyleModel",
          "state": {
            "_model_module": "@jupyter-widgets/controls",
            "_model_module_version": "1.5.0",
            "_model_name": "DescriptionStyleModel",
            "_view_count": null,
            "_view_module": "@jupyter-widgets/base",
            "_view_module_version": "1.2.0",
            "_view_name": "StyleView",
            "description_width": ""
          }
        },
        "f75c4181d30f406095a99fc29ebb0dcf": {
          "model_module": "@jupyter-widgets/controls",
          "model_module_version": "1.5.0",
          "model_name": "ProgressStyleModel",
          "state": {
            "_model_module": "@jupyter-widgets/controls",
            "_model_module_version": "1.5.0",
            "_model_name": "ProgressStyleModel",
            "_view_count": null,
            "_view_module": "@jupyter-widgets/base",
            "_view_module_version": "1.2.0",
            "_view_name": "StyleView",
            "bar_color": null,
            "description_width": ""
          }
        }
      }
    }
  },
  "nbformat": 4,
  "nbformat_minor": 0
}
